{
 "cells": [
  {
   "cell_type": "markdown",
   "id": "3269ba93-cb66-48f7-ab10-fdc9d619a149",
   "metadata": {},
   "source": [
    "## Loading Dataset"
   ]
  },
  {
   "cell_type": "code",
   "execution_count": 2,
   "id": "ced19aed-c6c4-4cc6-a5f9-ea9c654ed86d",
   "metadata": {},
   "outputs": [
    {
     "name": "stdout",
     "output_type": "stream",
     "text": [
      "EV Charging station dataset (df1):\n"
     ]
    },
    {
     "data": {
      "text/html": [
       "<div>\n",
       "<style scoped>\n",
       "    .dataframe tbody tr th:only-of-type {\n",
       "        vertical-align: middle;\n",
       "    }\n",
       "\n",
       "    .dataframe tbody tr th {\n",
       "        vertical-align: top;\n",
       "    }\n",
       "\n",
       "    .dataframe thead th {\n",
       "        text-align: right;\n",
       "    }\n",
       "</style>\n",
       "<table border=\"1\" class=\"dataframe\">\n",
       "  <thead>\n",
       "    <tr style=\"text-align: right;\">\n",
       "      <th></th>\n",
       "      <th>no</th>\n",
       "      <th>region</th>\n",
       "      <th>address</th>\n",
       "      <th>aux addres</th>\n",
       "      <th>latitude</th>\n",
       "      <th>longitude</th>\n",
       "      <th>type</th>\n",
       "      <th>power</th>\n",
       "      <th>service</th>\n",
       "    </tr>\n",
       "  </thead>\n",
       "  <tbody>\n",
       "    <tr>\n",
       "      <th>0</th>\n",
       "      <td>1</td>\n",
       "      <td>NDMC</td>\n",
       "      <td>Prithviraj Market, Rabindra Nagar, New Delhi- ...</td>\n",
       "      <td>Electric Vehicle Charger, Prithviraj Market, R...</td>\n",
       "      <td>28.600725</td>\n",
       "      <td>77.226252</td>\n",
       "      <td>DC-001</td>\n",
       "      <td>15 kW</td>\n",
       "      <td>Self Service</td>\n",
       "    </tr>\n",
       "    <tr>\n",
       "      <th>1</th>\n",
       "      <td>2</td>\n",
       "      <td>NDMC</td>\n",
       "      <td>Prithviraj Market, Rabindra Nagar, New Delhi- ...</td>\n",
       "      <td>Electric Vehicle Charger, Prithviraj Market, R...</td>\n",
       "      <td>28.600725</td>\n",
       "      <td>77.226252</td>\n",
       "      <td>DC-001</td>\n",
       "      <td>15 kW</td>\n",
       "      <td>Self Service</td>\n",
       "    </tr>\n",
       "  </tbody>\n",
       "</table>\n",
       "</div>"
      ],
      "text/plain": [
       "   no region                                            address  \\\n",
       "0   1   NDMC  Prithviraj Market, Rabindra Nagar, New Delhi- ...   \n",
       "1   2   NDMC  Prithviraj Market, Rabindra Nagar, New Delhi- ...   \n",
       "\n",
       "                                          aux addres   latitude  longitude  \\\n",
       "0  Electric Vehicle Charger, Prithviraj Market, R...  28.600725  77.226252   \n",
       "1  Electric Vehicle Charger, Prithviraj Market, R...  28.600725  77.226252   \n",
       "\n",
       "     type  power       service  \n",
       "0  DC-001  15 kW  Self Service  \n",
       "1  DC-001  15 kW  Self Service  "
      ]
     },
     "metadata": {},
     "output_type": "display_data"
    },
    {
     "name": "stdout",
     "output_type": "stream",
     "text": [
      "\n",
      "Vehicle class dataset (df2):\n"
     ]
    },
    {
     "data": {
      "text/html": [
       "<div>\n",
       "<style scoped>\n",
       "    .dataframe tbody tr th:only-of-type {\n",
       "        vertical-align: middle;\n",
       "    }\n",
       "\n",
       "    .dataframe tbody tr th {\n",
       "        vertical-align: top;\n",
       "    }\n",
       "\n",
       "    .dataframe thead th {\n",
       "        text-align: right;\n",
       "    }\n",
       "</style>\n",
       "<table border=\"1\" class=\"dataframe\">\n",
       "  <thead>\n",
       "    <tr style=\"text-align: right;\">\n",
       "      <th></th>\n",
       "      <th>Vehicle Class</th>\n",
       "      <th>Total Registration</th>\n",
       "    </tr>\n",
       "  </thead>\n",
       "  <tbody>\n",
       "    <tr>\n",
       "      <th>0</th>\n",
       "      <td>FOUR WHEELER (INVALID CARRIAGE)</td>\n",
       "      <td>21,346</td>\n",
       "    </tr>\n",
       "    <tr>\n",
       "      <th>1</th>\n",
       "      <td>HEAVY GOODS VEHICLE</td>\n",
       "      <td>58,70,865</td>\n",
       "    </tr>\n",
       "  </tbody>\n",
       "</table>\n",
       "</div>"
      ],
      "text/plain": [
       "                     Vehicle Class Total Registration\n",
       "0  FOUR WHEELER (INVALID CARRIAGE)             21,346\n",
       "1              HEAVY GOODS VEHICLE          58,70,865"
      ]
     },
     "metadata": {},
     "output_type": "display_data"
    },
    {
     "name": "stdout",
     "output_type": "stream",
     "text": [
      "\n",
      "Operational PCs dataset (df3):\n"
     ]
    },
    {
     "data": {
      "text/html": [
       "<div>\n",
       "<style scoped>\n",
       "    .dataframe tbody tr th:only-of-type {\n",
       "        vertical-align: middle;\n",
       "    }\n",
       "\n",
       "    .dataframe tbody tr th {\n",
       "        vertical-align: top;\n",
       "    }\n",
       "\n",
       "    .dataframe thead th {\n",
       "        text-align: right;\n",
       "    }\n",
       "</style>\n",
       "<table border=\"1\" class=\"dataframe\">\n",
       "  <thead>\n",
       "    <tr style=\"text-align: right;\">\n",
       "      <th></th>\n",
       "      <th>State</th>\n",
       "      <th>No. of Operational PCS</th>\n",
       "    </tr>\n",
       "  </thead>\n",
       "  <tbody>\n",
       "    <tr>\n",
       "      <th>0</th>\n",
       "      <td>Andaman &amp; Nicobar</td>\n",
       "      <td>3</td>\n",
       "    </tr>\n",
       "    <tr>\n",
       "      <th>1</th>\n",
       "      <td>Andhra Pradesh</td>\n",
       "      <td>327</td>\n",
       "    </tr>\n",
       "  </tbody>\n",
       "</table>\n",
       "</div>"
      ],
      "text/plain": [
       "               State  No. of Operational PCS\n",
       "0  Andaman & Nicobar                       3\n",
       "1     Andhra Pradesh                     327"
      ]
     },
     "metadata": {},
     "output_type": "display_data"
    },
    {
     "name": "stdout",
     "output_type": "stream",
     "text": [
      "\n",
      "EV final dataset (df4):\n"
     ]
    },
    {
     "data": {
      "text/html": [
       "<div>\n",
       "<style scoped>\n",
       "    .dataframe tbody tr th:only-of-type {\n",
       "        vertical-align: middle;\n",
       "    }\n",
       "\n",
       "    .dataframe tbody tr th {\n",
       "        vertical-align: top;\n",
       "    }\n",
       "\n",
       "    .dataframe thead th {\n",
       "        text-align: right;\n",
       "    }\n",
       "</style>\n",
       "<table border=\"1\" class=\"dataframe\">\n",
       "  <thead>\n",
       "    <tr style=\"text-align: right;\">\n",
       "      <th></th>\n",
       "      <th>uid</th>\n",
       "      <th>name</th>\n",
       "      <th>vendor_name</th>\n",
       "      <th>address</th>\n",
       "      <th>latitude</th>\n",
       "      <th>longitude</th>\n",
       "      <th>city</th>\n",
       "      <th>country</th>\n",
       "      <th>open</th>\n",
       "      <th>close</th>\n",
       "      <th>...</th>\n",
       "      <th>postal_code</th>\n",
       "      <th>zone</th>\n",
       "      <th>0</th>\n",
       "      <th>available</th>\n",
       "      <th>capacity</th>\n",
       "      <th>cost_per_unit</th>\n",
       "      <th>power_type</th>\n",
       "      <th>total</th>\n",
       "      <th>type</th>\n",
       "      <th>vehicle_type</th>\n",
       "    </tr>\n",
       "  </thead>\n",
       "  <tbody>\n",
       "    <tr>\n",
       "      <th>0</th>\n",
       "      <td>STATIC12</td>\n",
       "      <td>GensolCharge Pvt. Ltd.</td>\n",
       "      <td>GensolCharge Pvt. Ltd.</td>\n",
       "      <td>NDSE Grid, BRPL South Extension</td>\n",
       "      <td>28.568238</td>\n",
       "      <td>77.219666</td>\n",
       "      <td>Delhi</td>\n",
       "      <td>India</td>\n",
       "      <td>00:00:00</td>\n",
       "      <td>23:59:59</td>\n",
       "      <td>...</td>\n",
       "      <td>110001</td>\n",
       "      <td>central-delhi</td>\n",
       "      <td>NaN</td>\n",
       "      <td>NaN</td>\n",
       "      <td>15 kW</td>\n",
       "      <td>NaN</td>\n",
       "      <td>DC</td>\n",
       "      <td>2.0</td>\n",
       "      <td>BEVC DC 001</td>\n",
       "      <td>['4W']</td>\n",
       "    </tr>\n",
       "    <tr>\n",
       "      <th>1</th>\n",
       "      <td>STATIC14</td>\n",
       "      <td>REIL</td>\n",
       "      <td>REIL</td>\n",
       "      <td>Scada office kalka ji</td>\n",
       "      <td>28.541995</td>\n",
       "      <td>77.260583</td>\n",
       "      <td>Delhi</td>\n",
       "      <td>India</td>\n",
       "      <td>00:00:00</td>\n",
       "      <td>23:59:59</td>\n",
       "      <td>...</td>\n",
       "      <td>110001</td>\n",
       "      <td>central-delhi</td>\n",
       "      <td>NaN</td>\n",
       "      <td>NaN</td>\n",
       "      <td>3.3 kW</td>\n",
       "      <td>NaN</td>\n",
       "      <td>AC</td>\n",
       "      <td>3.0</td>\n",
       "      <td>BEVC AC 001</td>\n",
       "      <td>['2W', '3W', '4W']</td>\n",
       "    </tr>\n",
       "  </tbody>\n",
       "</table>\n",
       "<p>2 rows × 25 columns</p>\n",
       "</div>"
      ],
      "text/plain": [
       "        uid                    name             vendor_name  \\\n",
       "0  STATIC12  GensolCharge Pvt. Ltd.  GensolCharge Pvt. Ltd.   \n",
       "1  STATIC14                    REIL                    REIL   \n",
       "\n",
       "                           address   latitude  longitude   city country  \\\n",
       "0  NDSE Grid, BRPL South Extension  28.568238  77.219666  Delhi   India   \n",
       "1            Scada office kalka ji  28.541995  77.260583  Delhi   India   \n",
       "\n",
       "       open     close  ... postal_code           zone   0 available capacity  \\\n",
       "0  00:00:00  23:59:59  ...      110001  central-delhi NaN       NaN    15 kW   \n",
       "1  00:00:00  23:59:59  ...      110001  central-delhi NaN       NaN   3.3 kW   \n",
       "\n",
       "   cost_per_unit power_type  total         type        vehicle_type  \n",
       "0            NaN         DC    2.0  BEVC DC 001              ['4W']  \n",
       "1            NaN         AC    3.0  BEVC AC 001  ['2W', '3W', '4W']  \n",
       "\n",
       "[2 rows x 25 columns]"
      ]
     },
     "metadata": {},
     "output_type": "display_data"
    }
   ],
   "source": [
    "import pandas as pd\n",
    "\n",
    "# Load the datasets\n",
    "\n",
    "# EV Charging station dataset\n",
    "df1 = pd.read_csv(\"C:\\Desktop\\Feynn Labs\\EV Market Segment Analysis\\Data\\ev_charging_station_list.csv\")\n",
    "\n",
    "# Vehicle class dataset\n",
    "df2 = pd.read_csv(\"C:\\Desktop\\Feynn Labs\\EV Market Segment Analysis\\Data\\Vehicle Class - All.csv\")\n",
    "\n",
    "# Operational PCs dataset\n",
    "df3 = pd.read_csv(\"C:\\Desktop\\Feynn Labs\\EV Market Segment Analysis\\Data\\OperationalPC.csv\")\n",
    "\n",
    "# EV final dataset\n",
    "df4 = pd.read_csv(\"C:\\Desktop\\Feynn Labs\\EV Market Segment Analysis\\Data\\ev_final.csv\")\n",
    "\n",
    "# Displaying the first few rows of each dataset to verify loading\n",
    "print(\"EV Charging station dataset (df1):\")\n",
    "display(df1.head(2))\n",
    "\n",
    "print(\"\\nVehicle class dataset (df2):\")\n",
    "display(df2.head(2))\n",
    "\n",
    "print(\"\\nOperational PCs dataset (df3):\")\n",
    "display(df3.head(2))\n",
    "\n",
    "print(\"\\nEV final dataset (df4):\")\n",
    "display(df4.head(2))\n"
   ]
  },
  {
   "cell_type": "code",
   "execution_count": 3,
   "id": "1aff5743-0246-44b9-991c-f2240e844fea",
   "metadata": {},
   "outputs": [
    {
     "name": "stdout",
     "output_type": "stream",
     "text": [
      "(202, 9)\n",
      "(16, 2)\n",
      "(34, 2)\n",
      "(2705, 25)\n"
     ]
    }
   ],
   "source": [
    "print(df1.shape)\n",
    "print(df2.shape)\n",
    "print(df3.shape)\n",
    "print(df4.shape)"
   ]
  },
  {
   "cell_type": "code",
   "execution_count": 4,
   "id": "94bbbb2a-2fcb-4733-a2f8-81b1c56aa6d1",
   "metadata": {},
   "outputs": [
    {
     "data": {
      "text/plain": [
       "Index(['no', 'region', 'address', 'aux addres', 'latitude', 'longitude',\n",
       "       'type', 'power', 'service'],\n",
       "      dtype='object')"
      ]
     },
     "execution_count": 4,
     "metadata": {},
     "output_type": "execute_result"
    }
   ],
   "source": [
    "df1.columns"
   ]
  },
  {
   "cell_type": "code",
   "execution_count": 5,
   "id": "2dc617cb-3849-47fc-8c14-18f3622423dd",
   "metadata": {},
   "outputs": [
    {
     "data": {
      "text/plain": [
       "Index(['Vehicle Class', 'Total Registration'], dtype='object')"
      ]
     },
     "execution_count": 5,
     "metadata": {},
     "output_type": "execute_result"
    }
   ],
   "source": [
    "df2.columns"
   ]
  },
  {
   "cell_type": "code",
   "execution_count": 6,
   "id": "e0d38db8-aa4b-4f59-bd87-86d8711d909c",
   "metadata": {},
   "outputs": [
    {
     "data": {
      "text/plain": [
       "Index(['State', 'No. of Operational PCS'], dtype='object')"
      ]
     },
     "execution_count": 6,
     "metadata": {},
     "output_type": "execute_result"
    }
   ],
   "source": [
    "df3.columns"
   ]
  },
  {
   "cell_type": "code",
   "execution_count": 7,
   "id": "2d48cc9e-606b-4b73-abe6-16a26388d9af",
   "metadata": {},
   "outputs": [
    {
     "data": {
      "text/plain": [
       "Index(['uid', 'name', 'vendor_name', 'address', 'latitude', 'longitude',\n",
       "       'city', 'country', 'open', 'close', 'logo_url', 'staff',\n",
       "       'payment_modes', 'contact_numbers', 'station_type', 'postal_code',\n",
       "       'zone', '0', 'available', 'capacity', 'cost_per_unit', 'power_type',\n",
       "       'total', 'type', 'vehicle_type'],\n",
       "      dtype='object')"
      ]
     },
     "execution_count": 7,
     "metadata": {},
     "output_type": "execute_result"
    }
   ],
   "source": [
    "df4.columns"
   ]
  },
  {
   "cell_type": "markdown",
   "id": "5f784c4f-636a-4133-a1c2-53c3d6f2586e",
   "metadata": {},
   "source": [
    "## Data Cleaning"
   ]
  },
  {
   "cell_type": "code",
   "execution_count": 9,
   "id": "c4f2f9ae-80b7-4b32-9eb5-363a2b08ec80",
   "metadata": {},
   "outputs": [
    {
     "name": "stdout",
     "output_type": "stream",
     "text": [
      "Cleaned EV Charging station dataset (df1_cleaned):\n"
     ]
    },
    {
     "data": {
      "text/html": [
       "<div>\n",
       "<style scoped>\n",
       "    .dataframe tbody tr th:only-of-type {\n",
       "        vertical-align: middle;\n",
       "    }\n",
       "\n",
       "    .dataframe tbody tr th {\n",
       "        vertical-align: top;\n",
       "    }\n",
       "\n",
       "    .dataframe thead th {\n",
       "        text-align: right;\n",
       "    }\n",
       "</style>\n",
       "<table border=\"1\" class=\"dataframe\">\n",
       "  <thead>\n",
       "    <tr style=\"text-align: right;\">\n",
       "      <th></th>\n",
       "      <th>no</th>\n",
       "      <th>region</th>\n",
       "      <th>address</th>\n",
       "      <th>type</th>\n",
       "      <th>power</th>\n",
       "      <th>service</th>\n",
       "    </tr>\n",
       "  </thead>\n",
       "  <tbody>\n",
       "    <tr>\n",
       "      <th>0</th>\n",
       "      <td>1</td>\n",
       "      <td>NDMC</td>\n",
       "      <td>Prithviraj Market, Rabindra Nagar, New Delhi- ...</td>\n",
       "      <td>DC-001</td>\n",
       "      <td>15 kW</td>\n",
       "      <td>Self Service</td>\n",
       "    </tr>\n",
       "    <tr>\n",
       "      <th>1</th>\n",
       "      <td>2</td>\n",
       "      <td>NDMC</td>\n",
       "      <td>Prithviraj Market, Rabindra Nagar, New Delhi- ...</td>\n",
       "      <td>DC-001</td>\n",
       "      <td>15 kW</td>\n",
       "      <td>Self Service</td>\n",
       "    </tr>\n",
       "  </tbody>\n",
       "</table>\n",
       "</div>"
      ],
      "text/plain": [
       "   no region                                            address    type  \\\n",
       "0   1   NDMC  Prithviraj Market, Rabindra Nagar, New Delhi- ...  DC-001   \n",
       "1   2   NDMC  Prithviraj Market, Rabindra Nagar, New Delhi- ...  DC-001   \n",
       "\n",
       "   power       service  \n",
       "0  15 kW  Self Service  \n",
       "1  15 kW  Self Service  "
      ]
     },
     "metadata": {},
     "output_type": "display_data"
    },
    {
     "name": "stdout",
     "output_type": "stream",
     "text": [
      "\n",
      "Cleaned EV final dataset (df4_cleaned):\n"
     ]
    },
    {
     "data": {
      "text/html": [
       "<div>\n",
       "<style scoped>\n",
       "    .dataframe tbody tr th:only-of-type {\n",
       "        vertical-align: middle;\n",
       "    }\n",
       "\n",
       "    .dataframe tbody tr th {\n",
       "        vertical-align: top;\n",
       "    }\n",
       "\n",
       "    .dataframe thead th {\n",
       "        text-align: right;\n",
       "    }\n",
       "</style>\n",
       "<table border=\"1\" class=\"dataframe\">\n",
       "  <thead>\n",
       "    <tr style=\"text-align: right;\">\n",
       "      <th></th>\n",
       "      <th>uid</th>\n",
       "      <th>name</th>\n",
       "      <th>vendor_name</th>\n",
       "      <th>address</th>\n",
       "      <th>city</th>\n",
       "      <th>country</th>\n",
       "      <th>open</th>\n",
       "      <th>close</th>\n",
       "      <th>staff</th>\n",
       "      <th>payment_modes</th>\n",
       "      <th>...</th>\n",
       "      <th>station_type</th>\n",
       "      <th>postal_code</th>\n",
       "      <th>zone</th>\n",
       "      <th>available</th>\n",
       "      <th>capacity</th>\n",
       "      <th>cost_per_unit</th>\n",
       "      <th>power_type</th>\n",
       "      <th>total</th>\n",
       "      <th>type</th>\n",
       "      <th>vehicle_type</th>\n",
       "    </tr>\n",
       "  </thead>\n",
       "  <tbody>\n",
       "    <tr>\n",
       "      <th>0</th>\n",
       "      <td>STATIC12</td>\n",
       "      <td>GensolCharge Pvt. Ltd.</td>\n",
       "      <td>GensolCharge Pvt. Ltd.</td>\n",
       "      <td>NDSE Grid, BRPL South Extension</td>\n",
       "      <td>Delhi</td>\n",
       "      <td>India</td>\n",
       "      <td>00:00:00</td>\n",
       "      <td>23:59:59</td>\n",
       "      <td>Unstaffed</td>\n",
       "      <td>Card, E-Wallet, UPI</td>\n",
       "      <td>...</td>\n",
       "      <td>charging</td>\n",
       "      <td>110001</td>\n",
       "      <td>central-delhi</td>\n",
       "      <td>NaN</td>\n",
       "      <td>15 kW</td>\n",
       "      <td>NaN</td>\n",
       "      <td>DC</td>\n",
       "      <td>2.0</td>\n",
       "      <td>BEVC DC 001</td>\n",
       "      <td>['4W']</td>\n",
       "    </tr>\n",
       "    <tr>\n",
       "      <th>1</th>\n",
       "      <td>STATIC14</td>\n",
       "      <td>REIL</td>\n",
       "      <td>REIL</td>\n",
       "      <td>Scada office kalka ji</td>\n",
       "      <td>Delhi</td>\n",
       "      <td>India</td>\n",
       "      <td>00:00:00</td>\n",
       "      <td>23:59:59</td>\n",
       "      <td>Unstaffed</td>\n",
       "      <td>E-Wallet</td>\n",
       "      <td>...</td>\n",
       "      <td>charging</td>\n",
       "      <td>110001</td>\n",
       "      <td>central-delhi</td>\n",
       "      <td>NaN</td>\n",
       "      <td>3.3 kW</td>\n",
       "      <td>NaN</td>\n",
       "      <td>AC</td>\n",
       "      <td>3.0</td>\n",
       "      <td>BEVC AC 001</td>\n",
       "      <td>['2W', '3W', '4W']</td>\n",
       "    </tr>\n",
       "  </tbody>\n",
       "</table>\n",
       "<p>2 rows × 21 columns</p>\n",
       "</div>"
      ],
      "text/plain": [
       "        uid                    name             vendor_name  \\\n",
       "0  STATIC12  GensolCharge Pvt. Ltd.  GensolCharge Pvt. Ltd.   \n",
       "1  STATIC14                    REIL                    REIL   \n",
       "\n",
       "                           address   city country      open     close  \\\n",
       "0  NDSE Grid, BRPL South Extension  Delhi   India  00:00:00  23:59:59   \n",
       "1            Scada office kalka ji  Delhi   India  00:00:00  23:59:59   \n",
       "\n",
       "       staff        payment_modes  ... station_type postal_code  \\\n",
       "0  Unstaffed  Card, E-Wallet, UPI  ...     charging      110001   \n",
       "1  Unstaffed             E-Wallet  ...     charging      110001   \n",
       "\n",
       "            zone available  capacity cost_per_unit power_type total  \\\n",
       "0  central-delhi       NaN     15 kW           NaN         DC   2.0   \n",
       "1  central-delhi       NaN    3.3 kW           NaN         AC   3.0   \n",
       "\n",
       "          type        vehicle_type  \n",
       "0  BEVC DC 001              ['4W']  \n",
       "1  BEVC AC 001  ['2W', '3W', '4W']  \n",
       "\n",
       "[2 rows x 21 columns]"
      ]
     },
     "metadata": {},
     "output_type": "display_data"
    }
   ],
   "source": [
    "# Dropping irrelevant columns\n",
    "\n",
    "# 1. EV Charging station dataset (df1): drop 'aux address', 'latitude', 'longitude'\n",
    "df1_cleaned = df1.drop(['aux addres', 'latitude', 'longitude'], axis=1)\n",
    "\n",
    "# 2. Vehicle class dataset (df2): No irrelevant columns to drop based on your description\n",
    "\n",
    "# 3. Operational PCs dataset (df3): No irrelevant columns to drop based on your description\n",
    "\n",
    "# 4. EV final dataset (df4): drop 'latitude', 'longitude', 'logo_url', '0' (assuming it's an irrelevant column)\n",
    "df4_cleaned = df4.drop(['latitude', 'longitude', 'logo_url', '0'], axis=1)\n",
    "\n",
    "# Display the cleaned datasets\n",
    "print(\"Cleaned EV Charging station dataset (df1_cleaned):\")\n",
    "display(df1_cleaned.head(2))\n",
    "\n",
    "print(\"\\nCleaned EV final dataset (df4_cleaned):\")\n",
    "display(df4_cleaned.head(2))\n"
   ]
  },
  {
   "cell_type": "code",
   "execution_count": 10,
   "id": "5956c783-c962-4343-a718-7340bc17a312",
   "metadata": {},
   "outputs": [
    {
     "name": "stdout",
     "output_type": "stream",
     "text": [
      "(202, 6)\n",
      "(2705, 21)\n"
     ]
    }
   ],
   "source": [
    "print(df1_cleaned.shape)\n",
    "print(df4_cleaned.shape)"
   ]
  },
  {
   "cell_type": "code",
   "execution_count": 11,
   "id": "31821f9f-34fc-4898-90e3-8bb9eaf85b84",
   "metadata": {},
   "outputs": [
    {
     "name": "stdout",
     "output_type": "stream",
     "text": [
      "Null values in EV Charging station dataset (df1_cleaned):\n",
      "no         0\n",
      "region     0\n",
      "address    0\n",
      "type       0\n",
      "power      0\n",
      "service    0\n",
      "dtype: int64\n",
      "-----------------------------------------------------------------\n",
      "\n",
      "Null values in Vehicle class dataset (df2):\n",
      "Vehicle Class         0\n",
      "Total Registration    0\n",
      "dtype: int64\n",
      "-----------------------------------------------------------------\n",
      "\n",
      "Null values in Operational PCs dataset (df3):\n",
      "State                     0\n",
      "No. of Operational PCS    0\n",
      "dtype: int64\n",
      "-----------------------------------------------------------------\n",
      "\n",
      "Null values in EV final dataset (df4_cleaned):\n",
      "uid                  0\n",
      "name                 0\n",
      "vendor_name          0\n",
      "address              0\n",
      "city                 0\n",
      "country              0\n",
      "open                 0\n",
      "close                0\n",
      "staff                0\n",
      "payment_modes        0\n",
      "contact_numbers      0\n",
      "station_type         0\n",
      "postal_code          0\n",
      "zone               295\n",
      "available          238\n",
      "capacity           208\n",
      "cost_per_unit      252\n",
      "power_type         208\n",
      "total              208\n",
      "type               208\n",
      "vehicle_type       208\n",
      "dtype: int64\n",
      "-----------------------------------------------------------------\n"
     ]
    }
   ],
   "source": [
    "# Checking for null values in each dataset\n",
    "print(\"Null values in EV Charging station dataset (df1_cleaned):\")\n",
    "print(df1_cleaned.isnull().sum())\n",
    "print(\"-----------------------------------------------------------------\")\n",
    "\n",
    "print(\"\\nNull values in Vehicle class dataset (df2):\")\n",
    "print(df2.isnull().sum())\n",
    "print(\"-----------------------------------------------------------------\")\n",
    "\n",
    "print(\"\\nNull values in Operational PCs dataset (df3):\")\n",
    "print(df3.isnull().sum())\n",
    "print(\"-----------------------------------------------------------------\")\n",
    "\n",
    "print(\"\\nNull values in EV final dataset (df4_cleaned):\")\n",
    "print(df4_cleaned.isnull().sum())\n",
    "print(\"-----------------------------------------------------------------\")\n",
    "\n"
   ]
  },
  {
   "cell_type": "code",
   "execution_count": 12,
   "id": "933334ab-22fa-4307-a921-8eb6c45613a6",
   "metadata": {},
   "outputs": [
    {
     "name": "stdout",
     "output_type": "stream",
     "text": [
      "\n",
      "Null values in EV final dataset (df4_cleaned):\n",
      "uid                0\n",
      "name               0\n",
      "vendor_name        0\n",
      "address            0\n",
      "city               0\n",
      "country            0\n",
      "open               0\n",
      "close              0\n",
      "staff              0\n",
      "payment_modes      0\n",
      "contact_numbers    0\n",
      "station_type       0\n",
      "postal_code        0\n",
      "zone               0\n",
      "available          0\n",
      "capacity           0\n",
      "cost_per_unit      0\n",
      "power_type         0\n",
      "total              0\n",
      "type               0\n",
      "vehicle_type       0\n",
      "dtype: int64\n"
     ]
    },
    {
     "name": "stderr",
     "output_type": "stream",
     "text": [
      "C:\\Users\\gyanp\\AppData\\Local\\Temp\\ipykernel_15120\\2273399368.py:2: FutureWarning: Setting an item of incompatible dtype is deprecated and will raise an error in a future version of pandas. Value 'Unknown' has dtype incompatible with float64, please explicitly cast to a compatible dtype first.\n",
      "  df4_cleaned.fillna('Unknown', inplace=True)\n"
     ]
    }
   ],
   "source": [
    "# Drop rows with a high number of nulls or fill with appropriate values (for simplicity, filling with 'Unknown' or 0)\n",
    "df4_cleaned.fillna('Unknown', inplace=True)\n",
    "\n",
    "print(\"\\nNull values in EV final dataset (df4_cleaned):\")\n",
    "print(df4_cleaned.isnull().sum())"
   ]
  },
  {
   "cell_type": "code",
   "execution_count": 13,
   "id": "95806160-2073-48ff-81f8-32b79267fbc9",
   "metadata": {},
   "outputs": [],
   "source": [
    "# Checking for duplicate rows and removing them\n",
    "df1_cleaned.drop_duplicates(inplace=True)\n",
    "df2.drop_duplicates(inplace=True)\n",
    "df3.drop_duplicates(inplace=True)\n",
    "df4_cleaned.drop_duplicates(inplace=True)"
   ]
  },
  {
   "cell_type": "code",
   "execution_count": 14,
   "id": "9419acef-015d-4719-a69a-cba98efb007b",
   "metadata": {},
   "outputs": [
    {
     "name": "stdout",
     "output_type": "stream",
     "text": [
      "\n",
      "Cleaned and formatted EV Charging station dataset (df1_cleaned):\n"
     ]
    },
    {
     "data": {
      "text/html": [
       "<div>\n",
       "<style scoped>\n",
       "    .dataframe tbody tr th:only-of-type {\n",
       "        vertical-align: middle;\n",
       "    }\n",
       "\n",
       "    .dataframe tbody tr th {\n",
       "        vertical-align: top;\n",
       "    }\n",
       "\n",
       "    .dataframe thead th {\n",
       "        text-align: right;\n",
       "    }\n",
       "</style>\n",
       "<table border=\"1\" class=\"dataframe\">\n",
       "  <thead>\n",
       "    <tr style=\"text-align: right;\">\n",
       "      <th></th>\n",
       "      <th>no</th>\n",
       "      <th>region</th>\n",
       "      <th>address</th>\n",
       "      <th>type</th>\n",
       "      <th>power</th>\n",
       "      <th>service</th>\n",
       "    </tr>\n",
       "  </thead>\n",
       "  <tbody>\n",
       "    <tr>\n",
       "      <th>0</th>\n",
       "      <td>1</td>\n",
       "      <td>NDMC</td>\n",
       "      <td>Prithviraj Market, Rabindra Nagar, New Delhi- ...</td>\n",
       "      <td>DC-001</td>\n",
       "      <td>15 kW</td>\n",
       "      <td>Self Service</td>\n",
       "    </tr>\n",
       "    <tr>\n",
       "      <th>1</th>\n",
       "      <td>2</td>\n",
       "      <td>NDMC</td>\n",
       "      <td>Prithviraj Market, Rabindra Nagar, New Delhi- ...</td>\n",
       "      <td>DC-001</td>\n",
       "      <td>15 kW</td>\n",
       "      <td>Self Service</td>\n",
       "    </tr>\n",
       "  </tbody>\n",
       "</table>\n",
       "</div>"
      ],
      "text/plain": [
       "   no region                                            address    type  \\\n",
       "0   1   NDMC  Prithviraj Market, Rabindra Nagar, New Delhi- ...  DC-001   \n",
       "1   2   NDMC  Prithviraj Market, Rabindra Nagar, New Delhi- ...  DC-001   \n",
       "\n",
       "   power       service  \n",
       "0  15 kW  Self Service  \n",
       "1  15 kW  Self Service  "
      ]
     },
     "metadata": {},
     "output_type": "display_data"
    },
    {
     "name": "stdout",
     "output_type": "stream",
     "text": [
      "\n",
      "Cleaned and formatted Vehicle class dataset (df2):\n"
     ]
    },
    {
     "data": {
      "text/html": [
       "<div>\n",
       "<style scoped>\n",
       "    .dataframe tbody tr th:only-of-type {\n",
       "        vertical-align: middle;\n",
       "    }\n",
       "\n",
       "    .dataframe tbody tr th {\n",
       "        vertical-align: top;\n",
       "    }\n",
       "\n",
       "    .dataframe thead th {\n",
       "        text-align: right;\n",
       "    }\n",
       "</style>\n",
       "<table border=\"1\" class=\"dataframe\">\n",
       "  <thead>\n",
       "    <tr style=\"text-align: right;\">\n",
       "      <th></th>\n",
       "      <th>Vehicle Class</th>\n",
       "      <th>Total Registration</th>\n",
       "    </tr>\n",
       "  </thead>\n",
       "  <tbody>\n",
       "    <tr>\n",
       "      <th>0</th>\n",
       "      <td>FOUR WHEELER (INVALID CARRIAGE)</td>\n",
       "      <td>21,346</td>\n",
       "    </tr>\n",
       "    <tr>\n",
       "      <th>1</th>\n",
       "      <td>HEAVY GOODS VEHICLE</td>\n",
       "      <td>58,70,865</td>\n",
       "    </tr>\n",
       "  </tbody>\n",
       "</table>\n",
       "</div>"
      ],
      "text/plain": [
       "                     Vehicle Class Total Registration\n",
       "0  FOUR WHEELER (INVALID CARRIAGE)             21,346\n",
       "1              HEAVY GOODS VEHICLE          58,70,865"
      ]
     },
     "metadata": {},
     "output_type": "display_data"
    },
    {
     "name": "stdout",
     "output_type": "stream",
     "text": [
      "\n",
      "Cleaned and formatted Operational PCs dataset (df3):\n"
     ]
    },
    {
     "data": {
      "text/html": [
       "<div>\n",
       "<style scoped>\n",
       "    .dataframe tbody tr th:only-of-type {\n",
       "        vertical-align: middle;\n",
       "    }\n",
       "\n",
       "    .dataframe tbody tr th {\n",
       "        vertical-align: top;\n",
       "    }\n",
       "\n",
       "    .dataframe thead th {\n",
       "        text-align: right;\n",
       "    }\n",
       "</style>\n",
       "<table border=\"1\" class=\"dataframe\">\n",
       "  <thead>\n",
       "    <tr style=\"text-align: right;\">\n",
       "      <th></th>\n",
       "      <th>State</th>\n",
       "      <th>No. of Operational PCS</th>\n",
       "    </tr>\n",
       "  </thead>\n",
       "  <tbody>\n",
       "    <tr>\n",
       "      <th>0</th>\n",
       "      <td>Andaman &amp; Nicobar</td>\n",
       "      <td>3</td>\n",
       "    </tr>\n",
       "    <tr>\n",
       "      <th>1</th>\n",
       "      <td>Andhra Pradesh</td>\n",
       "      <td>327</td>\n",
       "    </tr>\n",
       "  </tbody>\n",
       "</table>\n",
       "</div>"
      ],
      "text/plain": [
       "               State  No. of Operational PCS\n",
       "0  Andaman & Nicobar                       3\n",
       "1     Andhra Pradesh                     327"
      ]
     },
     "metadata": {},
     "output_type": "display_data"
    },
    {
     "name": "stdout",
     "output_type": "stream",
     "text": [
      "\n",
      "Cleaned and formatted EV final dataset (df4_cleaned):\n"
     ]
    },
    {
     "data": {
      "text/html": [
       "<div>\n",
       "<style scoped>\n",
       "    .dataframe tbody tr th:only-of-type {\n",
       "        vertical-align: middle;\n",
       "    }\n",
       "\n",
       "    .dataframe tbody tr th {\n",
       "        vertical-align: top;\n",
       "    }\n",
       "\n",
       "    .dataframe thead th {\n",
       "        text-align: right;\n",
       "    }\n",
       "</style>\n",
       "<table border=\"1\" class=\"dataframe\">\n",
       "  <thead>\n",
       "    <tr style=\"text-align: right;\">\n",
       "      <th></th>\n",
       "      <th>uid</th>\n",
       "      <th>name</th>\n",
       "      <th>vendor_name</th>\n",
       "      <th>address</th>\n",
       "      <th>city</th>\n",
       "      <th>country</th>\n",
       "      <th>open</th>\n",
       "      <th>close</th>\n",
       "      <th>staff</th>\n",
       "      <th>payment_modes</th>\n",
       "      <th>...</th>\n",
       "      <th>station_type</th>\n",
       "      <th>postal_code</th>\n",
       "      <th>zone</th>\n",
       "      <th>available</th>\n",
       "      <th>capacity</th>\n",
       "      <th>cost_per_unit</th>\n",
       "      <th>power_type</th>\n",
       "      <th>total</th>\n",
       "      <th>type</th>\n",
       "      <th>vehicle_type</th>\n",
       "    </tr>\n",
       "  </thead>\n",
       "  <tbody>\n",
       "    <tr>\n",
       "      <th>0</th>\n",
       "      <td>STATIC12</td>\n",
       "      <td>GensolCharge Pvt. Ltd.</td>\n",
       "      <td>GensolCharge Pvt. Ltd.</td>\n",
       "      <td>NDSE Grid, BRPL South Extension</td>\n",
       "      <td>Delhi</td>\n",
       "      <td>India</td>\n",
       "      <td>1900-01-01</td>\n",
       "      <td>1900-01-01 23:59:59</td>\n",
       "      <td>Unstaffed</td>\n",
       "      <td>Card, E-Wallet, UPI</td>\n",
       "      <td>...</td>\n",
       "      <td>charging</td>\n",
       "      <td>110001</td>\n",
       "      <td>central-delhi</td>\n",
       "      <td>Unknown</td>\n",
       "      <td>15 kW</td>\n",
       "      <td>Unknown</td>\n",
       "      <td>DC</td>\n",
       "      <td>2.0</td>\n",
       "      <td>BEVC DC 001</td>\n",
       "      <td>['4W']</td>\n",
       "    </tr>\n",
       "    <tr>\n",
       "      <th>1</th>\n",
       "      <td>STATIC14</td>\n",
       "      <td>REIL</td>\n",
       "      <td>REIL</td>\n",
       "      <td>Scada office kalka ji</td>\n",
       "      <td>Delhi</td>\n",
       "      <td>India</td>\n",
       "      <td>1900-01-01</td>\n",
       "      <td>1900-01-01 23:59:59</td>\n",
       "      <td>Unstaffed</td>\n",
       "      <td>E-Wallet</td>\n",
       "      <td>...</td>\n",
       "      <td>charging</td>\n",
       "      <td>110001</td>\n",
       "      <td>central-delhi</td>\n",
       "      <td>Unknown</td>\n",
       "      <td>3.3 kW</td>\n",
       "      <td>Unknown</td>\n",
       "      <td>AC</td>\n",
       "      <td>3.0</td>\n",
       "      <td>BEVC AC 001</td>\n",
       "      <td>['2W', '3W', '4W']</td>\n",
       "    </tr>\n",
       "  </tbody>\n",
       "</table>\n",
       "<p>2 rows × 21 columns</p>\n",
       "</div>"
      ],
      "text/plain": [
       "        uid                    name             vendor_name  \\\n",
       "0  STATIC12  GensolCharge Pvt. Ltd.  GensolCharge Pvt. Ltd.   \n",
       "1  STATIC14                    REIL                    REIL   \n",
       "\n",
       "                           address   city country       open  \\\n",
       "0  NDSE Grid, BRPL South Extension  Delhi   India 1900-01-01   \n",
       "1            Scada office kalka ji  Delhi   India 1900-01-01   \n",
       "\n",
       "                close      staff        payment_modes  ... station_type  \\\n",
       "0 1900-01-01 23:59:59  Unstaffed  Card, E-Wallet, UPI  ...     charging   \n",
       "1 1900-01-01 23:59:59  Unstaffed             E-Wallet  ...     charging   \n",
       "\n",
       "  postal_code           zone available capacity cost_per_unit power_type  \\\n",
       "0      110001  central-delhi   Unknown    15 kW       Unknown         DC   \n",
       "1      110001  central-delhi   Unknown   3.3 kW       Unknown         AC   \n",
       "\n",
       "  total         type        vehicle_type  \n",
       "0   2.0  BEVC DC 001              ['4W']  \n",
       "1   3.0  BEVC AC 001  ['2W', '3W', '4W']  \n",
       "\n",
       "[2 rows x 21 columns]"
      ]
     },
     "metadata": {},
     "output_type": "display_data"
    }
   ],
   "source": [
    "# Ensuring proper formats\n",
    "# Convert numeric columns to correct formats (if necessary)\n",
    "df3['No. of Operational PCS'] = pd.to_numeric(df3['No. of Operational PCS'], errors='coerce')\n",
    "\n",
    "# Check if any 'open' or 'close' times are in wrong format in df4_cleaned (assuming time format is hh:mm:ss)\n",
    "df4_cleaned['open'] = pd.to_datetime(df4_cleaned['open'], format='%H:%M:%S', errors='coerce')\n",
    "df4_cleaned['close'] = pd.to_datetime(df4_cleaned['close'], format='%H:%M:%S', errors='coerce')\n",
    "\n",
    "# Display the cleaned datasets again\n",
    "print(\"\\nCleaned and formatted EV Charging station dataset (df1_cleaned):\")\n",
    "display(df1_cleaned.head(2))\n",
    "\n",
    "print(\"\\nCleaned and formatted Vehicle class dataset (df2):\")\n",
    "display(df2.head(2))\n",
    "\n",
    "print(\"\\nCleaned and formatted Operational PCs dataset (df3):\")\n",
    "display(df3.head(2))\n",
    "\n",
    "print(\"\\nCleaned and formatted EV final dataset (df4_cleaned):\")\n",
    "display(df4_cleaned.head(2))\n"
   ]
  },
  {
   "cell_type": "markdown",
   "id": "40923b19-47a4-455f-ab74-9af5782ae729",
   "metadata": {},
   "source": [
    "## Exploratory Data Analysis"
   ]
  },
  {
   "cell_type": "code",
   "execution_count": 16,
   "id": "c2e38ecb-3ddb-4064-b0fc-8fd36cf0b0d4",
   "metadata": {},
   "outputs": [
    {
     "name": "stdout",
     "output_type": "stream",
     "text": [
      "Summary statistics for EV Charging station dataset (df1_cleaned):\n"
     ]
    },
    {
     "data": {
      "text/html": [
       "<div>\n",
       "<style scoped>\n",
       "    .dataframe tbody tr th:only-of-type {\n",
       "        vertical-align: middle;\n",
       "    }\n",
       "\n",
       "    .dataframe tbody tr th {\n",
       "        vertical-align: top;\n",
       "    }\n",
       "\n",
       "    .dataframe thead th {\n",
       "        text-align: right;\n",
       "    }\n",
       "</style>\n",
       "<table border=\"1\" class=\"dataframe\">\n",
       "  <thead>\n",
       "    <tr style=\"text-align: right;\">\n",
       "      <th></th>\n",
       "      <th>no</th>\n",
       "    </tr>\n",
       "  </thead>\n",
       "  <tbody>\n",
       "    <tr>\n",
       "      <th>count</th>\n",
       "      <td>202.000000</td>\n",
       "    </tr>\n",
       "    <tr>\n",
       "      <th>mean</th>\n",
       "      <td>101.500000</td>\n",
       "    </tr>\n",
       "    <tr>\n",
       "      <th>std</th>\n",
       "      <td>58.456537</td>\n",
       "    </tr>\n",
       "    <tr>\n",
       "      <th>min</th>\n",
       "      <td>1.000000</td>\n",
       "    </tr>\n",
       "    <tr>\n",
       "      <th>25%</th>\n",
       "      <td>51.250000</td>\n",
       "    </tr>\n",
       "    <tr>\n",
       "      <th>50%</th>\n",
       "      <td>101.500000</td>\n",
       "    </tr>\n",
       "    <tr>\n",
       "      <th>75%</th>\n",
       "      <td>151.750000</td>\n",
       "    </tr>\n",
       "    <tr>\n",
       "      <th>max</th>\n",
       "      <td>202.000000</td>\n",
       "    </tr>\n",
       "  </tbody>\n",
       "</table>\n",
       "</div>"
      ],
      "text/plain": [
       "               no\n",
       "count  202.000000\n",
       "mean   101.500000\n",
       "std     58.456537\n",
       "min      1.000000\n",
       "25%     51.250000\n",
       "50%    101.500000\n",
       "75%    151.750000\n",
       "max    202.000000"
      ]
     },
     "metadata": {},
     "output_type": "display_data"
    },
    {
     "name": "stdout",
     "output_type": "stream",
     "text": [
      "\n",
      "Summary statistics for Vehicle class dataset (df2):\n"
     ]
    },
    {
     "data": {
      "text/html": [
       "<div>\n",
       "<style scoped>\n",
       "    .dataframe tbody tr th:only-of-type {\n",
       "        vertical-align: middle;\n",
       "    }\n",
       "\n",
       "    .dataframe tbody tr th {\n",
       "        vertical-align: top;\n",
       "    }\n",
       "\n",
       "    .dataframe thead th {\n",
       "        text-align: right;\n",
       "    }\n",
       "</style>\n",
       "<table border=\"1\" class=\"dataframe\">\n",
       "  <thead>\n",
       "    <tr style=\"text-align: right;\">\n",
       "      <th></th>\n",
       "      <th>Vehicle Class</th>\n",
       "      <th>Total Registration</th>\n",
       "    </tr>\n",
       "  </thead>\n",
       "  <tbody>\n",
       "    <tr>\n",
       "      <th>count</th>\n",
       "      <td>16</td>\n",
       "      <td>16</td>\n",
       "    </tr>\n",
       "    <tr>\n",
       "      <th>unique</th>\n",
       "      <td>16</td>\n",
       "      <td>16</td>\n",
       "    </tr>\n",
       "    <tr>\n",
       "      <th>top</th>\n",
       "      <td>FOUR WHEELER (INVALID CARRIAGE)</td>\n",
       "      <td>21,346</td>\n",
       "    </tr>\n",
       "    <tr>\n",
       "      <th>freq</th>\n",
       "      <td>1</td>\n",
       "      <td>1</td>\n",
       "    </tr>\n",
       "  </tbody>\n",
       "</table>\n",
       "</div>"
      ],
      "text/plain": [
       "                          Vehicle Class Total Registration\n",
       "count                                16                 16\n",
       "unique                               16                 16\n",
       "top     FOUR WHEELER (INVALID CARRIAGE)             21,346\n",
       "freq                                  1                  1"
      ]
     },
     "metadata": {},
     "output_type": "display_data"
    },
    {
     "name": "stdout",
     "output_type": "stream",
     "text": [
      "\n",
      "Summary statistics for Operational PCs dataset (df3):\n"
     ]
    },
    {
     "data": {
      "text/html": [
       "<div>\n",
       "<style scoped>\n",
       "    .dataframe tbody tr th:only-of-type {\n",
       "        vertical-align: middle;\n",
       "    }\n",
       "\n",
       "    .dataframe tbody tr th {\n",
       "        vertical-align: top;\n",
       "    }\n",
       "\n",
       "    .dataframe thead th {\n",
       "        text-align: right;\n",
       "    }\n",
       "</style>\n",
       "<table border=\"1\" class=\"dataframe\">\n",
       "  <thead>\n",
       "    <tr style=\"text-align: right;\">\n",
       "      <th></th>\n",
       "      <th>No. of Operational PCS</th>\n",
       "    </tr>\n",
       "  </thead>\n",
       "  <tbody>\n",
       "    <tr>\n",
       "      <th>count</th>\n",
       "      <td>34.000000</td>\n",
       "    </tr>\n",
       "    <tr>\n",
       "      <th>mean</th>\n",
       "      <td>357.235294</td>\n",
       "    </tr>\n",
       "    <tr>\n",
       "      <th>std</th>\n",
       "      <td>617.579099</td>\n",
       "    </tr>\n",
       "    <tr>\n",
       "      <th>min</th>\n",
       "      <td>1.000000</td>\n",
       "    </tr>\n",
       "    <tr>\n",
       "      <th>25%</th>\n",
       "      <td>18.750000</td>\n",
       "    </tr>\n",
       "    <tr>\n",
       "      <th>50%</th>\n",
       "      <td>129.500000</td>\n",
       "    </tr>\n",
       "    <tr>\n",
       "      <th>75%</th>\n",
       "      <td>451.250000</td>\n",
       "    </tr>\n",
       "    <tr>\n",
       "      <th>max</th>\n",
       "      <td>3079.000000</td>\n",
       "    </tr>\n",
       "  </tbody>\n",
       "</table>\n",
       "</div>"
      ],
      "text/plain": [
       "       No. of Operational PCS\n",
       "count               34.000000\n",
       "mean               357.235294\n",
       "std                617.579099\n",
       "min                  1.000000\n",
       "25%                 18.750000\n",
       "50%                129.500000\n",
       "75%                451.250000\n",
       "max               3079.000000"
      ]
     },
     "metadata": {},
     "output_type": "display_data"
    },
    {
     "name": "stdout",
     "output_type": "stream",
     "text": [
      "\n",
      "Summary statistics for EV final dataset (df4_cleaned):\n"
     ]
    },
    {
     "data": {
      "text/html": [
       "<div>\n",
       "<style scoped>\n",
       "    .dataframe tbody tr th:only-of-type {\n",
       "        vertical-align: middle;\n",
       "    }\n",
       "\n",
       "    .dataframe tbody tr th {\n",
       "        vertical-align: top;\n",
       "    }\n",
       "\n",
       "    .dataframe thead th {\n",
       "        text-align: right;\n",
       "    }\n",
       "</style>\n",
       "<table border=\"1\" class=\"dataframe\">\n",
       "  <thead>\n",
       "    <tr style=\"text-align: right;\">\n",
       "      <th></th>\n",
       "      <th>open</th>\n",
       "      <th>close</th>\n",
       "      <th>postal_code</th>\n",
       "    </tr>\n",
       "  </thead>\n",
       "  <tbody>\n",
       "    <tr>\n",
       "      <th>count</th>\n",
       "      <td>2095</td>\n",
       "      <td>2095</td>\n",
       "      <td>2.705000e+03</td>\n",
       "    </tr>\n",
       "    <tr>\n",
       "      <th>mean</th>\n",
       "      <td>1900-01-01 00:09:06.443913984</td>\n",
       "      <td>1900-01-01 02:32:52.612887808</td>\n",
       "      <td>1.526602e+05</td>\n",
       "    </tr>\n",
       "    <tr>\n",
       "      <th>min</th>\n",
       "      <td>1900-01-01 00:00:00</td>\n",
       "      <td>1900-01-01 00:00:00</td>\n",
       "      <td>0.000000e+00</td>\n",
       "    </tr>\n",
       "    <tr>\n",
       "      <th>25%</th>\n",
       "      <td>1900-01-01 00:00:00</td>\n",
       "      <td>1900-01-01 00:00:00</td>\n",
       "      <td>1.100320e+05</td>\n",
       "    </tr>\n",
       "    <tr>\n",
       "      <th>50%</th>\n",
       "      <td>1900-01-01 00:00:00</td>\n",
       "      <td>1900-01-01 00:00:00</td>\n",
       "      <td>1.100590e+05</td>\n",
       "    </tr>\n",
       "    <tr>\n",
       "      <th>75%</th>\n",
       "      <td>1900-01-01 00:00:00</td>\n",
       "      <td>1900-01-01 00:00:00</td>\n",
       "      <td>1.100810e+05</td>\n",
       "    </tr>\n",
       "    <tr>\n",
       "      <th>max</th>\n",
       "      <td>1900-01-01 10:00:00</td>\n",
       "      <td>1900-01-01 23:59:59</td>\n",
       "      <td>1.100091e+06</td>\n",
       "    </tr>\n",
       "    <tr>\n",
       "      <th>std</th>\n",
       "      <td>NaN</td>\n",
       "      <td>NaN</td>\n",
       "      <td>1.394690e+05</td>\n",
       "    </tr>\n",
       "  </tbody>\n",
       "</table>\n",
       "</div>"
      ],
      "text/plain": [
       "                                open                          close  \\\n",
       "count                           2095                           2095   \n",
       "mean   1900-01-01 00:09:06.443913984  1900-01-01 02:32:52.612887808   \n",
       "min              1900-01-01 00:00:00            1900-01-01 00:00:00   \n",
       "25%              1900-01-01 00:00:00            1900-01-01 00:00:00   \n",
       "50%              1900-01-01 00:00:00            1900-01-01 00:00:00   \n",
       "75%              1900-01-01 00:00:00            1900-01-01 00:00:00   \n",
       "max              1900-01-01 10:00:00            1900-01-01 23:59:59   \n",
       "std                              NaN                            NaN   \n",
       "\n",
       "        postal_code  \n",
       "count  2.705000e+03  \n",
       "mean   1.526602e+05  \n",
       "min    0.000000e+00  \n",
       "25%    1.100320e+05  \n",
       "50%    1.100590e+05  \n",
       "75%    1.100810e+05  \n",
       "max    1.100091e+06  \n",
       "std    1.394690e+05  "
      ]
     },
     "metadata": {},
     "output_type": "display_data"
    }
   ],
   "source": [
    "import matplotlib.pyplot as plt\n",
    "import seaborn as sns\n",
    "\n",
    "# 1. Summary Statistics for all datasets\n",
    "print(\"Summary statistics for EV Charging station dataset (df1_cleaned):\")\n",
    "display(df1_cleaned.describe())\n",
    "\n",
    "print(\"\\nSummary statistics for Vehicle class dataset (df2):\")\n",
    "display(df2.describe())\n",
    "\n",
    "print(\"\\nSummary statistics for Operational PCs dataset (df3):\")\n",
    "display(df3.describe())\n",
    "\n",
    "print(\"\\nSummary statistics for EV final dataset (df4_cleaned):\")\n",
    "display(df4_cleaned.describe())"
   ]
  },
  {
   "cell_type": "code",
   "execution_count": 17,
   "id": "004e1239-35eb-4462-aec9-95db90de3322",
   "metadata": {},
   "outputs": [],
   "source": [
    "# Remove commas from 'Total Registration' and convert to integers\n",
    "df2['Total Registration'] = df2['Total Registration'].str.replace(',', '').astype(int)\n",
    "\n",
    "# Sort the DataFrame by 'Total Registration'\n",
    "#df2_sorted = df2.sort_values(by='Total Registration', ascending=False)"
   ]
  },
  {
   "cell_type": "code",
   "execution_count": 18,
   "id": "065f76b1-5bbd-45a0-9a45-f49389a115a1",
   "metadata": {},
   "outputs": [
    {
     "name": "stdout",
     "output_type": "stream",
     "text": [
      "          Vehicle Class  Total Registration\n",
      "14      TWO WHEELER(NT)           274971646\n",
      "5   LIGHT MOTOR VEHICLE            65061773\n",
      "12     THREE WHEELER(T)            10708473\n",
      "4   LIGHT GOODS VEHICLE            10249591\n",
      "1   HEAVY GOODS VEHICLE             5870865\n",
      "-------------------------------------------------------------------------\n"
     ]
    },
    {
     "data": {
      "image/png": "[encoded data removed]",
      "text/plain": [
       "<Figure size 900x500 with 1 Axes>"
      ]
     },
     "metadata": {},
     "output_type": "display_data"
    }
   ],
   "source": [
    "# 2. Vehicle Class and Registrations (df2)\n",
    "\n",
    "# Output the top 5 vehicle classes by registration\n",
    "print(df2.sort_values(by='Total Registration', ascending=False).head(5))\n",
    "print(\"-------------------------------------------------------------------------\")\n",
    "plt.figure(figsize=(9,5))\n",
    "sns.barplot(x='Vehicle Class', y='Total Registration', data=df2)\n",
    "plt.title('Total Registrations by Vehicle Class')\n",
    "plt.xticks(rotation=90)\n",
    "plt.xlabel('Vehicle Class')\n",
    "plt.ylabel('Total Registration')\n",
    "plt.show()\n",
    "\n",
    "\n"
   ]
  },
  {
   "cell_type": "code",
   "execution_count": 19,
   "id": "70b61d60-8d17-4152-9ccd-5109fd058206",
   "metadata": {},
   "outputs": [
    {
     "name": "stdout",
     "output_type": "stream",
     "text": [
      "count    2467.000000\n",
      "mean        0.997973\n",
      "std         1.626897\n",
      "min         0.000000\n",
      "25%         1.000000\n",
      "50%         1.000000\n",
      "75%         1.000000\n",
      "max        73.000000\n",
      "Name: available, dtype: float64\n",
      "------------------------------------------------\n"
     ]
    },
    {
     "data": {
      "image/png": "[encoded data removed]",
      "text/plain": [
       "<Figure size 1000x600 with 1 Axes>"
      ]
     },
     "metadata": {},
     "output_type": "display_data"
    }
   ],
   "source": [
    "# 3. Charging Station Availability and Capacity (df4_cleaned)\n",
    "# Convert 'Unknown' to NaN and ensure 'available' column is numeric\n",
    "df4_cleaned['available'] = pd.to_numeric(df4_cleaned['available'], errors='coerce')\n",
    "\n",
    "# Output statistics of 'available' column\n",
    "print(df4_cleaned['available'].describe())\n",
    "print(\"------------------------------------------------\")\n",
    "# Visualizing charging station availability\n",
    "plt.figure(figsize=(10,6))\n",
    "sns.histplot(df4_cleaned['available'], bins=20, kde=True)\n",
    "plt.title('Distribution of Available Charging Stations')\n",
    "plt.xlabel('Number of Available Charging Stations')\n",
    "plt.show()\n",
    "\n",
    "\n"
   ]
  },
  {
   "cell_type": "code",
   "execution_count": 20,
   "id": "b7e7796b-3482-4ec7-a72b-c009ad4faeda",
   "metadata": {},
   "outputs": [
    {
     "name": "stdout",
     "output_type": "stream",
     "text": [
      "count    2705.000000\n",
      "mean       18.199187\n",
      "std        40.698590\n",
      "min         0.000000\n",
      "25%         3.300000\n",
      "50%         3.300000\n",
      "75%         3.300000\n",
      "max       142.000000\n",
      "Name: capacity, dtype: float64\n",
      "--------------------------------------------------------\n"
     ]
    },
    {
     "data": {
      "image/png": "[encoded data removed]",
      "text/plain": [
       "<Figure size 1000x600 with 1 Axes>"
      ]
     },
     "metadata": {},
     "output_type": "display_data"
    }
   ],
   "source": [
    "import re\n",
    "import numpy as np\n",
    "import warnings\n",
    "warnings.filterwarnings('ignore')\n",
    "\n",
    "# Function to extract numeric value from 'capacity' column and standardize units to kW\n",
    "def clean_capacity(val):\n",
    "    if isinstance(val, str):\n",
    "        val = val.lower()  # Convert to lowercase for consistency\n",
    "        if 'kw' in val:\n",
    "            return float(re.sub(r'[^\\d.]+', '', val))  # Remove non-numeric characters and keep the number\n",
    "        elif 'kwh' in val:\n",
    "            return float(re.sub(r'[^\\d.]+', '', val))  # If it's kWh, still treat as kW (assuming no conversion needed)\n",
    "        elif 'unknown' in val:\n",
    "            return np.nan  # Set 'Unknown' values to NaN\n",
    "    return val\n",
    "\n",
    "# Apply the cleaning function to the 'capacity' column\n",
    "df4_cleaned['capacity'] = df4_cleaned['capacity'].apply(clean_capacity)\n",
    "\n",
    "# Fill NaN values with 0 or an appropriate default value\n",
    "df4_cleaned['capacity'].fillna(0, inplace=True)\n",
    "\n",
    "# Output summary statistics for the 'capacity' column\n",
    "print(df4_cleaned['capacity'].describe())\n",
    "print(\"--------------------------------------------------------\")\n",
    "\n",
    "# Plot the cleaned capacity distribution\n",
    "plt.figure(figsize=(10,6))\n",
    "sns.histplot(df4_cleaned['capacity'], bins=20, kde=True)\n",
    "plt.title('Distribution of Charging Station Capacity (kW)')\n",
    "plt.xlabel('Capacity (kW)')\n",
    "plt.show()"
   ]
  },
  {
   "cell_type": "code",
   "execution_count": 21,
   "id": "37357739-eaeb-428b-8ecd-00ca8181da6b",
   "metadata": {},
   "outputs": [
    {
     "name": "stdout",
     "output_type": "stream",
     "text": [
      "          State  No. of Operational PCS\n",
      "19  Maharashtra                    3079\n",
      "8         Delhi                    1886\n",
      "15    Karnataka                    1041\n",
      "16       Kerala                     852\n",
      "28   Tamil Nadu                     643\n",
      "---------------------------------------------------------------------\n"
     ]
    },
    {
     "data": {
      "image/png": "[encoded data removed]",
      "text/plain": [
       "<Figure size 1000x600 with 1 Axes>"
      ]
     },
     "metadata": {},
     "output_type": "display_data"
    }
   ],
   "source": [
    "# 4. Operational Public Charging Stations by State (df3)\n",
    "\n",
    "# Output the top 5 states with the highest number of operational PCS\n",
    "print(df3.sort_values(by='No. of Operational PCS', ascending=False).head(5))\n",
    "print(\"---------------------------------------------------------------------\")\n",
    "\n",
    "plt.figure(figsize=(10,6))\n",
    "sns.barplot(x='State', y='No. of Operational PCS', data=df3)\n",
    "plt.title('Operational Public Charging Stations by State')\n",
    "plt.xticks(rotation=90)\n",
    "plt.xlabel('State')\n",
    "plt.ylabel('No. of Operational PCS')\n",
    "plt.show()"
   ]
  },
  {
   "cell_type": "code",
   "execution_count": 22,
   "id": "09833b56-1fa9-4e3a-bc12-406f7e2aacc8",
   "metadata": {},
   "outputs": [
    {
     "name": "stdout",
     "output_type": "stream",
     "text": [
      "station_type\n",
      "charging            2498\n",
      "battery_swapping     207\n",
      "Name: count, dtype: int64\n",
      "-------------------------------------------\n"
     ]
    },
    {
     "data": {
      "image/png": "[encoded data removed]",
      "text/plain": [
       "<Figure size 700x400 with 1 Axes>"
      ]
     },
     "metadata": {},
     "output_type": "display_data"
    }
   ],
   "source": [
    "# 5. Station Types and Power Types (df4_cleaned)\n",
    "# Output the count of each station type\n",
    "print(df4_cleaned['station_type'].value_counts())\n",
    "print(\"-------------------------------------------\")\n",
    "\n",
    "plt.figure(figsize=(7,4))\n",
    "sns.countplot(x='station_type', data=df4_cleaned)\n",
    "plt.title('Distribution of Charging Station Types')\n",
    "plt.xlabel('Station Type')\n",
    "plt.ylabel('Count')\n",
    "plt.show()"
   ]
  },
  {
   "cell_type": "code",
   "execution_count": 23,
   "id": "48888d59-e69c-4a89-adfa-21d9a4ff9f9d",
   "metadata": {},
   "outputs": [
    {
     "name": "stdout",
     "output_type": "stream",
     "text": [
      "power_type\n",
      "AC         2079\n",
      "DC          418\n",
      "Unknown     208\n",
      "Name: count, dtype: int64\n",
      "-----------------------------------------\n"
     ]
    },
    {
     "data": {
      "image/png": "[encoded data removed]",
      "text/plain": [
       "<Figure size 700x400 with 1 Axes>"
      ]
     },
     "metadata": {},
     "output_type": "display_data"
    }
   ],
   "source": [
    "# Output the count of each power type (AC/DC)\n",
    "print(df4_cleaned['power_type'].value_counts())\n",
    "print(\"-----------------------------------------\")\n",
    "\n",
    "plt.figure(figsize=(7,4))\n",
    "sns.countplot(x='power_type', data=df4_cleaned)\n",
    "plt.title('Distribution of Power Types (AC/DC)')\n",
    "plt.xlabel('Power Type')\n",
    "plt.ylabel('Count')\n",
    "plt.show()"
   ]
  },
  {
   "cell_type": "markdown",
   "id": "897ed2f9-337c-48b3-a775-6451adfbc4cb",
   "metadata": {},
   "source": [
    "### **Insights from the data based on the cleaned columns and visualizations:**\n",
    "1. Vehicle Class Distribution (df2):\n",
    "Two-Wheeler (NT) dominates the market with 27.49 million registrations, accounting for a large portion of EV vehicle types. This suggests that two-wheelers are a significant segment to focus on for EV market penetration.\n",
    "Three-Wheeler (T) follows with 10.7 million registrations, indicating a large demand for three-wheelers, particularly for public transport or delivery services.\n",
    "Light Motor Vehicles and Light Goods Vehicles are also significant with registrations of 65 million and 102 million, respectively. This highlights the importance of these vehicle types for both personal and commercial use in the EV market.\n",
    "Key Insight: Two-wheelers (non-transport) and three-wheelers (transport) appear to be the highest registered vehicle classes, presenting a significant opportunity for targeting charging infrastructure to support these classes.\n",
    "\n",
    "2. Charging Station Availability (df4_cleaned):\n",
    "Most stations are marked as 1 available, with 2,113 charging stations having 1.0 availability. Only a small fraction have multiple available charging points (2.0 availability: 87, 3.0 availability: 9).\n",
    "There are 248 stations with 0 availability, which indicates some stations may be fully occupied or offline.\n",
    "\"Unknown\" availability counts are 238, but these have been replaced for cleaner analysis.\n",
    "Key Insight: The majority of stations have limited availability, which suggests a need for increasing the number of charging points at high-traffic stations. Areas with 0 availability may indicate locations with frequent overuse or stations that require maintenance.\n",
    "\n",
    "3. Capacity of Charging Stations (df4_cleaned):\n",
    "The most common capacity is 3.3 kW with 1,882 stations, followed by high-capacity stations with 142 kW (257 stations). This shows a mix of both low and high-capacity stations, catering to different vehicle charging needs.\n",
    "Other notable capacities include 15 kW (121 stations) and 22 kW (37 stations).\n",
    "Some inconsistencies, like stations reporting capacity in kWh rather than kW, have been corrected.\n",
    "There are 208 stations where capacity was originally \"Unknown,\" which could point to gaps in data collection.\n",
    "Key Insight: Low-capacity stations (3.3 kW) dominate, indicating that most stations are designed for slower charging. The smaller number of high-capacity stations (142 kW) presents an opportunity for investment in faster charging infrastructure, especially for regions with heavy vehicle use like commercial fleets or long-distance travelers.\n",
    "\n",
    "4. Operational Public Charging Stations by State (df3):\n",
    "The distribution of public charging stations across states shows significant regional variation, with some states having many operational stations, while others lag behind.\n",
    "For a detailed insight, it would be important to visualize the geographical distribution and consider regional factors such as EV adoption rates and the presence of supporting infrastructure.\n",
    "Key Insight: Identifying under-served regions could be critical for expansion opportunities in the EV charging market.\n",
    "\n",
    "5. Station Types and Power Types (df4_cleaned):\n",
    "The majority of stations are DC fast-charging stations, indicating a preference for faster charging options, especially for electric vehicles that need quick top-ups during travel.\n",
    "The count of AC chargers is lower, but they still make up a considerable portion of the network, likely catering to slower, overnight charging.\n",
    "Key Insight: DC fast chargers dominate, showing that the demand for faster charging is high. This reflects a market need for quick charging turnarounds, particularly in urban areas where charging time is critical."
   ]
  },
  {
   "cell_type": "markdown",
   "id": "850fd050-d669-429a-bb52-f4c25804ee9b",
   "metadata": {},
   "source": [
    "## **Extracting Segments**\n",
    "1. Segmenting by Vehicle Type: We'll use the registration data to identify distinct market segments (e.g., two-wheelers, three-wheelers, etc.).\n",
    "2. Segmenting by Charging Capacity: Segment the market based on the type and capacity of charging stations (e.g., low capacity vs. high capacity stations).\n",
    "3. Geographical Segmentation: Segment based on regional factors, such as the distribution of operational public charging stations by state.\n",
    "\n",
    "## **Profiling Segments**\n",
    "Profile each segment by analyzing the following characteristics:\n",
    "\n",
    "1. Vehicle class registrations.\n",
    "2. Charging station availability and capacity.\n",
    "3. Geographical location of charging stations."
   ]
  },
  {
   "cell_type": "code",
   "execution_count": 26,
   "id": "23a50107-0fcf-4dc4-a053-18482860e2ce",
   "metadata": {},
   "outputs": [
    {
     "data": {
      "text/html": [
       "<div>\n",
       "<style scoped>\n",
       "    .dataframe tbody tr th:only-of-type {\n",
       "        vertical-align: middle;\n",
       "    }\n",
       "\n",
       "    .dataframe tbody tr th {\n",
       "        vertical-align: top;\n",
       "    }\n",
       "\n",
       "    .dataframe thead th {\n",
       "        text-align: right;\n",
       "    }\n",
       "</style>\n",
       "<table border=\"1\" class=\"dataframe\">\n",
       "  <thead>\n",
       "    <tr style=\"text-align: right;\">\n",
       "      <th></th>\n",
       "      <th>Vehicle Class</th>\n",
       "      <th>Total Registration</th>\n",
       "    </tr>\n",
       "  </thead>\n",
       "  <tbody>\n",
       "    <tr>\n",
       "      <th>14</th>\n",
       "      <td>TWO WHEELER(NT)</td>\n",
       "      <td>274971646</td>\n",
       "    </tr>\n",
       "    <tr>\n",
       "      <th>5</th>\n",
       "      <td>LIGHT MOTOR VEHICLE</td>\n",
       "      <td>65061773</td>\n",
       "    </tr>\n",
       "    <tr>\n",
       "      <th>12</th>\n",
       "      <td>THREE WHEELER(T)</td>\n",
       "      <td>10708473</td>\n",
       "    </tr>\n",
       "    <tr>\n",
       "      <th>4</th>\n",
       "      <td>LIGHT GOODS VEHICLE</td>\n",
       "      <td>10249591</td>\n",
       "    </tr>\n",
       "    <tr>\n",
       "      <th>1</th>\n",
       "      <td>HEAVY GOODS VEHICLE</td>\n",
       "      <td>5870865</td>\n",
       "    </tr>\n",
       "    <tr>\n",
       "      <th>6</th>\n",
       "      <td>LIGHT PASSENGER VEHICLE</td>\n",
       "      <td>4343410</td>\n",
       "    </tr>\n",
       "    <tr>\n",
       "      <th>10</th>\n",
       "      <td>OTHER THAN MENTIONED ABOVE</td>\n",
       "      <td>1126398</td>\n",
       "    </tr>\n",
       "    <tr>\n",
       "      <th>7</th>\n",
       "      <td>MEDIUM GOODS VEHICLE</td>\n",
       "      <td>875789</td>\n",
       "    </tr>\n",
       "    <tr>\n",
       "      <th>3</th>\n",
       "      <td>HEAVY PASSENGER VEHICLE</td>\n",
       "      <td>828189</td>\n",
       "    </tr>\n",
       "    <tr>\n",
       "      <th>11</th>\n",
       "      <td>THREE WHEELER(NT)</td>\n",
       "      <td>679804</td>\n",
       "    </tr>\n",
       "    <tr>\n",
       "      <th>9</th>\n",
       "      <td>MEDIUM PASSENGER VEHICLE</td>\n",
       "      <td>325015</td>\n",
       "    </tr>\n",
       "    <tr>\n",
       "      <th>8</th>\n",
       "      <td>MEDIUM MOTOR VEHICLE</td>\n",
       "      <td>194600</td>\n",
       "    </tr>\n",
       "    <tr>\n",
       "      <th>15</th>\n",
       "      <td>TWO WHEELER(T)</td>\n",
       "      <td>129181</td>\n",
       "    </tr>\n",
       "    <tr>\n",
       "      <th>13</th>\n",
       "      <td>TWO WHEELER (INVALID CARRIAGE)</td>\n",
       "      <td>110788</td>\n",
       "    </tr>\n",
       "    <tr>\n",
       "      <th>2</th>\n",
       "      <td>HEAVY MOTOR VEHICLE</td>\n",
       "      <td>102965</td>\n",
       "    </tr>\n",
       "    <tr>\n",
       "      <th>0</th>\n",
       "      <td>FOUR WHEELER (INVALID CARRIAGE)</td>\n",
       "      <td>21346</td>\n",
       "    </tr>\n",
       "  </tbody>\n",
       "</table>\n",
       "</div>"
      ],
      "text/plain": [
       "                      Vehicle Class  Total Registration\n",
       "14                  TWO WHEELER(NT)           274971646\n",
       "5               LIGHT MOTOR VEHICLE            65061773\n",
       "12                 THREE WHEELER(T)            10708473\n",
       "4               LIGHT GOODS VEHICLE            10249591\n",
       "1               HEAVY GOODS VEHICLE             5870865\n",
       "6           LIGHT PASSENGER VEHICLE             4343410\n",
       "10       OTHER THAN MENTIONED ABOVE             1126398\n",
       "7              MEDIUM GOODS VEHICLE              875789\n",
       "3           HEAVY PASSENGER VEHICLE              828189\n",
       "11                THREE WHEELER(NT)              679804\n",
       "9          MEDIUM PASSENGER VEHICLE              325015\n",
       "8              MEDIUM MOTOR VEHICLE              194600\n",
       "15                   TWO WHEELER(T)              129181\n",
       "13   TWO WHEELER (INVALID CARRIAGE)              110788\n",
       "2               HEAVY MOTOR VEHICLE              102965\n",
       "0   FOUR WHEELER (INVALID CARRIAGE)               21346"
      ]
     },
     "metadata": {},
     "output_type": "display_data"
    },
    {
     "name": "stdout",
     "output_type": "stream",
     "text": [
      "-------------------------------------------------------------------\n"
     ]
    },
    {
     "data": {
      "text/plain": [
       "'Low Capacity Stations (<= 15 kW): 2360'"
      ]
     },
     "metadata": {},
     "output_type": "display_data"
    },
    {
     "data": {
      "text/plain": [
       "'High Capacity Stations (> 15 kW): 345'"
      ]
     },
     "metadata": {},
     "output_type": "display_data"
    },
    {
     "name": "stdout",
     "output_type": "stream",
     "text": [
      "---------------------------------------------------------------------\n"
     ]
    },
    {
     "data": {
      "text/html": [
       "<div>\n",
       "<style scoped>\n",
       "    .dataframe tbody tr th:only-of-type {\n",
       "        vertical-align: middle;\n",
       "    }\n",
       "\n",
       "    .dataframe tbody tr th {\n",
       "        vertical-align: top;\n",
       "    }\n",
       "\n",
       "    .dataframe thead th {\n",
       "        text-align: right;\n",
       "    }\n",
       "</style>\n",
       "<table border=\"1\" class=\"dataframe\">\n",
       "  <thead>\n",
       "    <tr style=\"text-align: right;\">\n",
       "      <th></th>\n",
       "      <th>State</th>\n",
       "      <th>No. of Operational PCS</th>\n",
       "    </tr>\n",
       "  </thead>\n",
       "  <tbody>\n",
       "    <tr>\n",
       "      <th>19</th>\n",
       "      <td>Maharashtra</td>\n",
       "      <td>3079</td>\n",
       "    </tr>\n",
       "    <tr>\n",
       "      <th>8</th>\n",
       "      <td>Delhi</td>\n",
       "      <td>1886</td>\n",
       "    </tr>\n",
       "    <tr>\n",
       "      <th>15</th>\n",
       "      <td>Karnataka</td>\n",
       "      <td>1041</td>\n",
       "    </tr>\n",
       "    <tr>\n",
       "      <th>16</th>\n",
       "      <td>Kerala</td>\n",
       "      <td>852</td>\n",
       "    </tr>\n",
       "    <tr>\n",
       "      <th>28</th>\n",
       "      <td>Tamil Nadu</td>\n",
       "      <td>643</td>\n",
       "    </tr>\n",
       "    <tr>\n",
       "      <th>31</th>\n",
       "      <td>Uttar Pradesh</td>\n",
       "      <td>582</td>\n",
       "    </tr>\n",
       "    <tr>\n",
       "      <th>26</th>\n",
       "      <td>Rajasthan</td>\n",
       "      <td>500</td>\n",
       "    </tr>\n",
       "    <tr>\n",
       "      <th>29</th>\n",
       "      <td>Telangana</td>\n",
       "      <td>481</td>\n",
       "    </tr>\n",
       "    <tr>\n",
       "      <th>10</th>\n",
       "      <td>Gujarat</td>\n",
       "      <td>476</td>\n",
       "    </tr>\n",
       "    <tr>\n",
       "      <th>11</th>\n",
       "      <td>Haryana</td>\n",
       "      <td>377</td>\n",
       "    </tr>\n",
       "    <tr>\n",
       "      <th>18</th>\n",
       "      <td>Madhya Pradesh</td>\n",
       "      <td>341</td>\n",
       "    </tr>\n",
       "    <tr>\n",
       "      <th>1</th>\n",
       "      <td>Andhra Pradesh</td>\n",
       "      <td>327</td>\n",
       "    </tr>\n",
       "    <tr>\n",
       "      <th>33</th>\n",
       "      <td>West Bengal</td>\n",
       "      <td>318</td>\n",
       "    </tr>\n",
       "    <tr>\n",
       "      <th>23</th>\n",
       "      <td>Odisha</td>\n",
       "      <td>198</td>\n",
       "    </tr>\n",
       "    <tr>\n",
       "      <th>25</th>\n",
       "      <td>Punjab</td>\n",
       "      <td>158</td>\n",
       "    </tr>\n",
       "    <tr>\n",
       "      <th>6</th>\n",
       "      <td>Chhattisgarh</td>\n",
       "      <td>149</td>\n",
       "    </tr>\n",
       "    <tr>\n",
       "      <th>14</th>\n",
       "      <td>Jharkhand</td>\n",
       "      <td>135</td>\n",
       "    </tr>\n",
       "    <tr>\n",
       "      <th>4</th>\n",
       "      <td>Bihar</td>\n",
       "      <td>124</td>\n",
       "    </tr>\n",
       "    <tr>\n",
       "      <th>9</th>\n",
       "      <td>Goa</td>\n",
       "      <td>113</td>\n",
       "    </tr>\n",
       "    <tr>\n",
       "      <th>3</th>\n",
       "      <td>Assam</td>\n",
       "      <td>86</td>\n",
       "    </tr>\n",
       "    <tr>\n",
       "      <th>32</th>\n",
       "      <td>Uttarakhand</td>\n",
       "      <td>76</td>\n",
       "    </tr>\n",
       "    <tr>\n",
       "      <th>13</th>\n",
       "      <td>Jammu and Kashmir</td>\n",
       "      <td>47</td>\n",
       "    </tr>\n",
       "    <tr>\n",
       "      <th>12</th>\n",
       "      <td>Himachal Pradesh</td>\n",
       "      <td>44</td>\n",
       "    </tr>\n",
       "    <tr>\n",
       "      <th>24</th>\n",
       "      <td>Pondicherry</td>\n",
       "      <td>23</td>\n",
       "    </tr>\n",
       "    <tr>\n",
       "      <th>21</th>\n",
       "      <td>Meghalaya</td>\n",
       "      <td>21</td>\n",
       "    </tr>\n",
       "    <tr>\n",
       "      <th>30</th>\n",
       "      <td>Tripura</td>\n",
       "      <td>18</td>\n",
       "    </tr>\n",
       "    <tr>\n",
       "      <th>20</th>\n",
       "      <td>Manipur</td>\n",
       "      <td>17</td>\n",
       "    </tr>\n",
       "    <tr>\n",
       "      <th>5</th>\n",
       "      <td>Chandigarh</td>\n",
       "      <td>12</td>\n",
       "    </tr>\n",
       "    <tr>\n",
       "      <th>2</th>\n",
       "      <td>Arunachal Pradesh</td>\n",
       "      <td>9</td>\n",
       "    </tr>\n",
       "    <tr>\n",
       "      <th>22</th>\n",
       "      <td>Nagaland</td>\n",
       "      <td>6</td>\n",
       "    </tr>\n",
       "    <tr>\n",
       "      <th>0</th>\n",
       "      <td>Andaman &amp; Nicobar</td>\n",
       "      <td>3</td>\n",
       "    </tr>\n",
       "    <tr>\n",
       "      <th>27</th>\n",
       "      <td>Sikkim</td>\n",
       "      <td>2</td>\n",
       "    </tr>\n",
       "    <tr>\n",
       "      <th>7</th>\n",
       "      <td>D&amp;D and DNH</td>\n",
       "      <td>1</td>\n",
       "    </tr>\n",
       "    <tr>\n",
       "      <th>17</th>\n",
       "      <td>Lakshadweep</td>\n",
       "      <td>1</td>\n",
       "    </tr>\n",
       "  </tbody>\n",
       "</table>\n",
       "</div>"
      ],
      "text/plain": [
       "                State  No. of Operational PCS\n",
       "19        Maharashtra                    3079\n",
       "8               Delhi                    1886\n",
       "15          Karnataka                    1041\n",
       "16             Kerala                     852\n",
       "28         Tamil Nadu                     643\n",
       "31      Uttar Pradesh                     582\n",
       "26          Rajasthan                     500\n",
       "29          Telangana                     481\n",
       "10            Gujarat                     476\n",
       "11            Haryana                     377\n",
       "18     Madhya Pradesh                     341\n",
       "1      Andhra Pradesh                     327\n",
       "33        West Bengal                     318\n",
       "23             Odisha                     198\n",
       "25             Punjab                     158\n",
       "6        Chhattisgarh                     149\n",
       "14          Jharkhand                     135\n",
       "4               Bihar                     124\n",
       "9                 Goa                     113\n",
       "3               Assam                      86\n",
       "32        Uttarakhand                      76\n",
       "13  Jammu and Kashmir                      47\n",
       "12   Himachal Pradesh                      44\n",
       "24        Pondicherry                      23\n",
       "21          Meghalaya                      21\n",
       "30            Tripura                      18\n",
       "20            Manipur                      17\n",
       "5          Chandigarh                      12\n",
       "2   Arunachal Pradesh                       9\n",
       "22           Nagaland                       6\n",
       "0   Andaman & Nicobar                       3\n",
       "27             Sikkim                       2\n",
       "7         D&D and DNH                       1\n",
       "17        Lakshadweep                       1"
      ]
     },
     "metadata": {},
     "output_type": "display_data"
    }
   ],
   "source": [
    "# Segment by vehicle type registration\n",
    "vehicle_segments = df2[['Vehicle Class', 'Total Registration']].sort_values(by='Total Registration', ascending=False)\n",
    "\n",
    "# Display the segments\n",
    "display(vehicle_segments)\n",
    "print(\"-------------------------------------------------------------------\")\n",
    "\n",
    "# Segmenting charging stations based on capacity\n",
    "low_capacity = df4_cleaned[df4_cleaned['capacity'] <= 15]  # Low capacity (<=15 kW)\n",
    "high_capacity = df4_cleaned[df4_cleaned['capacity'] > 15]  # High capacity (>15 kW)\n",
    "\n",
    "# Display the counts\n",
    "display(f\"Low Capacity Stations (<= 15 kW): {low_capacity.shape[0]}\")\n",
    "display(f\"High Capacity Stations (> 15 kW): {high_capacity.shape[0]}\")\n",
    "print(\"---------------------------------------------------------------------\")\n",
    "\n",
    "# Group by state to see distribution of public charging stations\n",
    "geo_segments = df3.groupby('State')['No. of Operational PCS'].sum().reset_index().sort_values(by='No. of Operational PCS', ascending=False)\n",
    "\n",
    "# Display the geographical segments\n",
    "display(geo_segments)\n"
   ]
  },
  {
   "cell_type": "markdown",
   "id": "9ae9933c-97e8-43fc-8914-fc6a59c38bfd",
   "metadata": {},
   "source": [
    "##### Segment by vehicle type registration\n",
    "1. Two-Wheelers (NT) and Three-Wheelers (T) represent the largest market segments, indicating a high demand for charging stations for these vehicle types.\n",
    "2. Light Motor Vehicles also constitute a significant portion, meaning charging infrastructure catering to these vehicles is essential.\n",
    "\n",
    "\n",
    "##### Segmenting charging stations based on capacity\n",
    "1. Low capacity stations (<= 15 kW) dominate the market, but there’s a growing need for high capacity stations to support faster charging for heavier and more demanding vehicles (e.g., light goods vehicles, commercial vehicles).\n",
    "2. High capacity stations (e.g., 142 kW) are a small segment, but they are essential for long-distance travelers and commercial EV fleets.\n",
    "\n",
    "\n",
    "##### Group by state to see distribution of public charging stations\n",
    "1. There are stark differences in the number of charging stations across states. Some states are well-equipped, while others may present opportunities for expansion.\n",
    "2. High-density EV areas should be the focus of high-capacity charging station investments."
   ]
  },
  {
   "cell_type": "markdown",
   "id": "12d529db-88fc-4e86-afc9-dc2a0b2df6d9",
   "metadata": {},
   "source": [
    "#### Data Preprocessing\n",
    "1. Handle Missing Values: We already handled the missing values earlier by replacing them with suitable values. For clustering, we need to ensure there are no missing values remaining in the dataset.\n",
    "\n",
    "2. Encoding Categorical Variables: Since clustering algorithms work with numerical data, we'll encode the categorical variables. We'll use LabelEncoder for simple labels and OneHotEncoder for more complex cases.\n",
    "\n",
    "3. Scaling Numerical Features: It's important to scale the numerical features (e.g., capacities, power types, etc.) since clustering algorithms are sensitive to feature scaling. We'll use StandardScaler for this."
   ]
  },
  {
   "cell_type": "code",
   "execution_count": 29,
   "id": "a7de09c2-877d-4ed7-899c-47af5001d0b2",
   "metadata": {},
   "outputs": [
    {
     "data": {
      "text/plain": [
       "uid                        object\n",
       "name                       object\n",
       "vendor_name                object\n",
       "address                    object\n",
       "city                       object\n",
       "country                    object\n",
       "open               datetime64[ns]\n",
       "close              datetime64[ns]\n",
       "staff                      object\n",
       "payment_modes              object\n",
       "contact_numbers            object\n",
       "station_type               object\n",
       "postal_code                 int64\n",
       "zone                       object\n",
       "available                 float64\n",
       "capacity                  float64\n",
       "cost_per_unit              object\n",
       "power_type                 object\n",
       "total                      object\n",
       "type                       object\n",
       "vehicle_type               object\n",
       "dtype: object"
      ]
     },
     "execution_count": 29,
     "metadata": {},
     "output_type": "execute_result"
    }
   ],
   "source": [
    "df4_cleaned.dtypes"
   ]
  },
  {
   "cell_type": "code",
   "execution_count": 30,
   "id": "c4f7ae70-af13-48a2-ae09-ffbda7abffa8",
   "metadata": {},
   "outputs": [
    {
     "data": {
      "text/plain": [
       "0               Unknown\n",
       "1               Unknown\n",
       "2               Unknown\n",
       "3               Unknown\n",
       "4               Unknown\n",
       "             ...       \n",
       "2700    ₹12.93 per unit\n",
       "2701    ₹20.14 per unit\n",
       "2702    ₹20.14 per unit\n",
       "2703       ₹16 per unit\n",
       "2704       ₹11 per unit\n",
       "Name: cost_per_unit, Length: 2705, dtype: object"
      ]
     },
     "execution_count": 30,
     "metadata": {},
     "output_type": "execute_result"
    }
   ],
   "source": [
    "df4_cleaned.cost_per_unit"
   ]
  },
  {
   "cell_type": "code",
   "execution_count": 31,
   "id": "de2ab9de-b51a-4a7f-8039-2ca7070b8ab0",
   "metadata": {},
   "outputs": [
    {
     "name": "stdout",
     "output_type": "stream",
     "text": [
      "Original unique values in 'cost_per_unit':\n",
      "['Unknown' '₹10 per unit' '₹19 per unit' '₹9.5 per unit' '₹26 per unit'\n",
      " '₹23 per unit' '₹1.6 per unit' '₹0 per unit' '₹5 per unit' '₹15 per unit'\n",
      " '₹25 per unit' '₹11 per unit' '₹2 per unit' '₹20 per unit' '₹12 per unit'\n",
      " '₹6.5 per unit' '₹30 per unit' '₹8 per unit' '₹16 per unit'\n",
      " '₹31 per unit' '₹2.85 per unit' '₹18 per unit' '₹21 per unit'\n",
      " '₹2.73 per unit' '₹2.05 per unit' '₹13 per unit' '₹10.00 per unit'\n",
      " '₹9.50 per unit' '₹19.00 per unit' '₹22.00 per unit' '₹12.93 per unit'\n",
      " '₹13.73 per unit' '₹20.14 per unit' '₹15.00 per unit' '₹13.00 per unit'\n",
      " '₹19.50 per unit' '₹16.32 per unit' '₹6.87 per unit' '₹14.00 per unit'\n",
      " '₹33.00 per unit' '₹18.00 per unit' '₹23.00 per unit' '₹9.56 per unit'\n",
      " '₹1.60 per unit']\n",
      "Cleaned unique values in 'cost_per_unit':\n",
      "[  nan 10.   19.    9.5  26.   23.    1.6   0.    5.   15.   25.   11.\n",
      "  2.   20.   12.    6.5  30.    8.   16.   31.    2.85 18.   21.    2.73\n",
      "  2.05 13.   22.   12.93 13.73 20.14 19.5  16.32  6.87 14.   33.    9.56]\n"
     ]
    }
   ],
   "source": [
    "import pandas as pd\n",
    "import numpy as np\n",
    "\n",
    "# Assuming df4_cleaned is already loaded and contains the 'cost_per_unit' column\n",
    "\n",
    "# Display the original unique values for reference\n",
    "print(\"Original unique values in 'cost_per_unit':\")\n",
    "print(df4_cleaned['cost_per_unit'].unique())\n",
    "\n",
    "# Step 1: Replace \"Unknown\" with NaN\n",
    "df4_cleaned['cost_per_unit'] = df4_cleaned['cost_per_unit'].replace('Unknown', np.nan)\n",
    "\n",
    "# Step 2: Clean the column by removing currency symbols and text\n",
    "# Use regex to extract only numeric values (including decimals)\n",
    "df4_cleaned['cost_per_unit'] = df4_cleaned['cost_per_unit'].str.extract(r'(\\d+(\\.\\d+)?)')[0]\n",
    "\n",
    "# Step 3: Convert cleaned values to float\n",
    "df4_cleaned['cost_per_unit'] = df4_cleaned['cost_per_unit'].astype(float)\n",
    "\n",
    "# Optional: Display the cleaned unique values\n",
    "print(\"Cleaned unique values in 'cost_per_unit':\")\n",
    "print(df4_cleaned['cost_per_unit'].unique())\n"
   ]
  },
  {
   "cell_type": "code",
   "execution_count": 32,
   "id": "92b30cf3-2a7b-4f97-b282-e4afab73c507",
   "metadata": {},
   "outputs": [
    {
     "data": {
      "text/plain": [
       "array([  nan, 10.  , 19.  ,  9.5 , 26.  , 23.  ,  1.6 ,  0.  ,  5.  ,\n",
       "       15.  , 25.  , 11.  ,  2.  , 20.  , 12.  ,  6.5 , 30.  ,  8.  ,\n",
       "       16.  , 31.  ,  2.85, 18.  , 21.  ,  2.73,  2.05, 13.  , 22.  ,\n",
       "       12.93, 13.73, 20.14, 19.5 , 16.32,  6.87, 14.  , 33.  ,  9.56])"
      ]
     },
     "execution_count": 32,
     "metadata": {},
     "output_type": "execute_result"
    }
   ],
   "source": [
    "df4_cleaned['cost_per_unit'].unique()"
   ]
  },
  {
   "cell_type": "code",
   "execution_count": 33,
   "id": "ba15dc01-c573-4242-a6e6-86f29fce481b",
   "metadata": {},
   "outputs": [
    {
     "name": "stdout",
     "output_type": "stream",
     "text": [
      "Data type of 'cost_per_unit' before conversion: float64\n",
      "Data type of 'cost_per_unit' after conversion: float64\n",
      "Unique values in 'cost_per_unit' after conversion:\n",
      "[  nan 10.   19.    9.5  26.   23.    1.6   0.    5.   15.   25.   11.\n",
      "  2.   20.   12.    6.5  30.    8.   16.   31.    2.85 18.   21.    2.73\n",
      "  2.05 13.   22.   12.93 13.73 20.14 19.5  16.32  6.87 14.   33.    9.56]\n"
     ]
    }
   ],
   "source": [
    "# Assuming df4_cleaned is already loaded and contains the 'cost_per_unit' column\n",
    "\n",
    "# Check the current data type of the column\n",
    "print(\"Data type of 'cost_per_unit' before conversion:\", df4_cleaned['cost_per_unit'].dtype)\n",
    "\n",
    "# Convert the 'cost_per_unit' column to float\n",
    "df4_cleaned['cost_per_unit'] = df4_cleaned['cost_per_unit'].astype(float)\n",
    "\n",
    "# Verify the conversion\n",
    "print(\"Data type of 'cost_per_unit' after conversion:\", df4_cleaned['cost_per_unit'].dtype)\n",
    "print(\"Unique values in 'cost_per_unit' after conversion:\")\n",
    "print(df4_cleaned['cost_per_unit'].unique())\n"
   ]
  },
  {
   "cell_type": "code",
   "execution_count": 34,
   "id": "ac57472a-4432-4682-a09c-97e93e7b7d6c",
   "metadata": {},
   "outputs": [],
   "source": [
    "import pandas as pd\n",
    "from sklearn.preprocessing import StandardScaler, LabelEncoder\n",
    "from sklearn.impute import SimpleImputer\n",
    "import numpy as np\n",
    "\n",
    "# Assuming df4_cleaned is already loaded\n",
    "\n",
    "# Step 1: Data Preprocessing\n",
    "\n",
    "# Create a copy of df4_cleaned for machine learning purposes\n",
    "df_ml = df4_cleaned.copy()\n",
    "\n",
    "# 1. Handle missing values\n",
    "num_imputer = SimpleImputer(strategy='median')\n",
    "cat_imputer = SimpleImputer(strategy='most_frequent')\n",
    "\n",
    "# Identifying numerical and categorical columns\n",
    "num_cols = df_ml.select_dtypes(include=['float64', 'int64']).columns.tolist()\n",
    "cat_cols = df_ml.select_dtypes(include=['object']).columns.tolist()\n",
    "\n",
    "# Optional: Check and replace \"Unknown\" with NaN in object columns (if they exist)\n",
    "df_ml[cat_cols] = df_ml[cat_cols].replace('Unknown', np.nan)\n",
    "\n",
    "# Apply imputations for numerical and categorical columns\n",
    "df_ml[num_cols] = num_imputer.fit_transform(df_ml[num_cols])\n",
    "df_ml[cat_cols] = cat_imputer.fit_transform(df_ml[cat_cols])"
   ]
  },
  {
   "cell_type": "code",
   "execution_count": 35,
   "id": "a86ab4a5-887e-4063-a7e7-b8df4e23add7",
   "metadata": {},
   "outputs": [],
   "source": [
    "# 2. Clean and encode 'cost_per_unit'\n",
    "# Clean the 'cost_per_unit' column (already cleaned in previous steps)\n",
    "# Here, we'll ensure 'cost_per_unit' is converted to float and handle NaN\n",
    "df_ml['cost_per_unit'] = df_ml['cost_per_unit'].astype(float)"
   ]
  },
  {
   "cell_type": "code",
   "execution_count": 36,
   "id": "76fa6cd7-3f5a-4699-a0de-730f6f88b30b",
   "metadata": {},
   "outputs": [],
   "source": [
    "# 3. Encode categorical variables\n",
    "# Encode remaining categorical columns\n",
    "for col in cat_cols:\n",
    "    if df_ml[col].dtype == 'object':  # Ensure we're only encoding object types\n",
    "        df_ml[col] = LabelEncoder().fit_transform(df_ml[col])"
   ]
  },
  {
   "cell_type": "code",
   "execution_count": 37,
   "id": "3d89d463-d98a-42c3-92d8-615e0df03b60",
   "metadata": {},
   "outputs": [
    {
     "name": "stdout",
     "output_type": "stream",
     "text": [
      "Preprocessing complete. Here's the cleaned DataFrame:\n"
     ]
    },
    {
     "data": {
      "text/html": [
       "<div>\n",
       "<style scoped>\n",
       "    .dataframe tbody tr th:only-of-type {\n",
       "        vertical-align: middle;\n",
       "    }\n",
       "\n",
       "    .dataframe tbody tr th {\n",
       "        vertical-align: top;\n",
       "    }\n",
       "\n",
       "    .dataframe thead th {\n",
       "        text-align: right;\n",
       "    }\n",
       "</style>\n",
       "<table border=\"1\" class=\"dataframe\">\n",
       "  <thead>\n",
       "    <tr style=\"text-align: right;\">\n",
       "      <th></th>\n",
       "      <th>uid</th>\n",
       "      <th>name</th>\n",
       "      <th>vendor_name</th>\n",
       "      <th>address</th>\n",
       "      <th>city</th>\n",
       "      <th>country</th>\n",
       "      <th>open</th>\n",
       "      <th>close</th>\n",
       "      <th>staff</th>\n",
       "      <th>payment_modes</th>\n",
       "      <th>...</th>\n",
       "      <th>station_type</th>\n",
       "      <th>postal_code</th>\n",
       "      <th>zone</th>\n",
       "      <th>available</th>\n",
       "      <th>capacity</th>\n",
       "      <th>cost_per_unit</th>\n",
       "      <th>power_type</th>\n",
       "      <th>total</th>\n",
       "      <th>type</th>\n",
       "      <th>vehicle_type</th>\n",
       "    </tr>\n",
       "  </thead>\n",
       "  <tbody>\n",
       "    <tr>\n",
       "      <th>0</th>\n",
       "      <td>2346</td>\n",
       "      <td>373</td>\n",
       "      <td>8</td>\n",
       "      <td>971</td>\n",
       "      <td>5</td>\n",
       "      <td>0</td>\n",
       "      <td>1900-01-01</td>\n",
       "      <td>1900-01-01 23:59:59</td>\n",
       "      <td>2</td>\n",
       "      <td>0</td>\n",
       "      <td>...</td>\n",
       "      <td>1</td>\n",
       "      <td>-0.305925</td>\n",
       "      <td>0</td>\n",
       "      <td>0.00119</td>\n",
       "      <td>-0.078621</td>\n",
       "      <td>-0.472368</td>\n",
       "      <td>1</td>\n",
       "      <td>1</td>\n",
       "      <td>4</td>\n",
       "      <td>2</td>\n",
       "    </tr>\n",
       "    <tr>\n",
       "      <th>1</th>\n",
       "      <td>2347</td>\n",
       "      <td>387</td>\n",
       "      <td>15</td>\n",
       "      <td>1220</td>\n",
       "      <td>5</td>\n",
       "      <td>0</td>\n",
       "      <td>1900-01-01</td>\n",
       "      <td>1900-01-01 23:59:59</td>\n",
       "      <td>2</td>\n",
       "      <td>3</td>\n",
       "      <td>...</td>\n",
       "      <td>1</td>\n",
       "      <td>-0.305925</td>\n",
       "      <td>0</td>\n",
       "      <td>0.00119</td>\n",
       "      <td>-0.366154</td>\n",
       "      <td>-0.472368</td>\n",
       "      <td>0</td>\n",
       "      <td>2</td>\n",
       "      <td>3</td>\n",
       "      <td>0</td>\n",
       "    </tr>\n",
       "    <tr>\n",
       "      <th>2</th>\n",
       "      <td>2348</td>\n",
       "      <td>387</td>\n",
       "      <td>15</td>\n",
       "      <td>342</td>\n",
       "      <td>5</td>\n",
       "      <td>0</td>\n",
       "      <td>1900-01-01</td>\n",
       "      <td>1900-01-01 23:59:59</td>\n",
       "      <td>2</td>\n",
       "      <td>3</td>\n",
       "      <td>...</td>\n",
       "      <td>1</td>\n",
       "      <td>-0.305925</td>\n",
       "      <td>0</td>\n",
       "      <td>0.00119</td>\n",
       "      <td>-0.078621</td>\n",
       "      <td>-0.472368</td>\n",
       "      <td>1</td>\n",
       "      <td>1</td>\n",
       "      <td>4</td>\n",
       "      <td>2</td>\n",
       "    </tr>\n",
       "    <tr>\n",
       "      <th>3</th>\n",
       "      <td>2349</td>\n",
       "      <td>387</td>\n",
       "      <td>15</td>\n",
       "      <td>1009</td>\n",
       "      <td>5</td>\n",
       "      <td>0</td>\n",
       "      <td>1900-01-01</td>\n",
       "      <td>1900-01-01 23:59:59</td>\n",
       "      <td>2</td>\n",
       "      <td>1</td>\n",
       "      <td>...</td>\n",
       "      <td>1</td>\n",
       "      <td>-0.305925</td>\n",
       "      <td>0</td>\n",
       "      <td>0.00119</td>\n",
       "      <td>-0.078621</td>\n",
       "      <td>-0.472368</td>\n",
       "      <td>1</td>\n",
       "      <td>3</td>\n",
       "      <td>4</td>\n",
       "      <td>2</td>\n",
       "    </tr>\n",
       "    <tr>\n",
       "      <th>4</th>\n",
       "      <td>2350</td>\n",
       "      <td>226</td>\n",
       "      <td>3</td>\n",
       "      <td>405</td>\n",
       "      <td>5</td>\n",
       "      <td>0</td>\n",
       "      <td>1900-01-01</td>\n",
       "      <td>1900-01-01 23:59:59</td>\n",
       "      <td>2</td>\n",
       "      <td>1</td>\n",
       "      <td>...</td>\n",
       "      <td>1</td>\n",
       "      <td>-0.305925</td>\n",
       "      <td>0</td>\n",
       "      <td>0.00119</td>\n",
       "      <td>-0.078621</td>\n",
       "      <td>-0.472368</td>\n",
       "      <td>1</td>\n",
       "      <td>0</td>\n",
       "      <td>4</td>\n",
       "      <td>2</td>\n",
       "    </tr>\n",
       "  </tbody>\n",
       "</table>\n",
       "<p>5 rows × 21 columns</p>\n",
       "</div>"
      ],
      "text/plain": [
       "    uid  name  vendor_name  address  city  country       open  \\\n",
       "0  2346   373            8      971     5        0 1900-01-01   \n",
       "1  2347   387           15     1220     5        0 1900-01-01   \n",
       "2  2348   387           15      342     5        0 1900-01-01   \n",
       "3  2349   387           15     1009     5        0 1900-01-01   \n",
       "4  2350   226            3      405     5        0 1900-01-01   \n",
       "\n",
       "                close  staff  payment_modes  ...  station_type  postal_code  \\\n",
       "0 1900-01-01 23:59:59      2              0  ...             1    -0.305925   \n",
       "1 1900-01-01 23:59:59      2              3  ...             1    -0.305925   \n",
       "2 1900-01-01 23:59:59      2              3  ...             1    -0.305925   \n",
       "3 1900-01-01 23:59:59      2              1  ...             1    -0.305925   \n",
       "4 1900-01-01 23:59:59      2              1  ...             1    -0.305925   \n",
       "\n",
       "   zone  available  capacity  cost_per_unit  power_type  total  type  \\\n",
       "0     0    0.00119 -0.078621      -0.472368           1      1     4   \n",
       "1     0    0.00119 -0.366154      -0.472368           0      2     3   \n",
       "2     0    0.00119 -0.078621      -0.472368           1      1     4   \n",
       "3     0    0.00119 -0.078621      -0.472368           1      3     4   \n",
       "4     0    0.00119 -0.078621      -0.472368           1      0     4   \n",
       "\n",
       "   vehicle_type  \n",
       "0             2  \n",
       "1             0  \n",
       "2             2  \n",
       "3             2  \n",
       "4             2  \n",
       "\n",
       "[5 rows x 21 columns]"
      ]
     },
     "metadata": {},
     "output_type": "display_data"
    }
   ],
   "source": [
    "# 4. Scale the numerical features\n",
    "# Identify numerical columns again after cleaning\n",
    "num_cols = df_ml.select_dtypes(include=['float64', 'int64']).columns.tolist()  # Refresh num_cols if necessary\n",
    "\n",
    "scaler = StandardScaler()\n",
    "df_ml[num_cols] = scaler.fit_transform(df_ml[num_cols])\n",
    "\n",
    "# df_ml is now preprocessed and ready for clustering\n",
    "print(\"Preprocessing complete. Here's the cleaned DataFrame:\")\n",
    "display(df_ml.head())"
   ]
  },
  {
   "cell_type": "markdown",
   "id": "0beeb7e7-93f0-4c48-b8be-3fd0dc88cba1",
   "metadata": {},
   "source": [
    "### Modeling "
   ]
  },
  {
   "cell_type": "code",
   "execution_count": 39,
   "id": "cb0ba0bf-5972-4d7e-9776-1cc5741834b2",
   "metadata": {},
   "outputs": [
    {
     "name": "stdout",
     "output_type": "stream",
     "text": [
      "K-Means Silhouette Score for k=2: 0.8345414164284175\n",
      "K-Means Silhouette Score for k=3: 0.837688940304017\n",
      "K-Means Silhouette Score for k=4: 0.8177798143487397\n",
      "K-Means Silhouette Score for k=5: 0.8150416983609103\n",
      "K-Means Silhouette Score for k=6: 0.8172635816463714\n",
      "K-Means Silhouette Score for k=7: 0.8504442844017861\n",
      "K-Means Silhouette Score for k=8: 0.8612280586086427\n",
      "K-Means Silhouette Score for k=9: 0.8589878683708313\n",
      "K-Means Silhouette Score for k=10: 0.8641655272682829\n"
     ]
    },
    {
     "data": {
      "image/png": "[encoded data removed]",
      "text/plain": [
       "<Figure size 700x400 with 1 Axes>"
      ]
     },
     "metadata": {},
     "output_type": "display_data"
    }
   ],
   "source": [
    "from sklearn.cluster import KMeans, AgglomerativeClustering, DBSCAN\n",
    "from sklearn.metrics import silhouette_score\n",
    "\n",
    "# Define the features to be used for clustering\n",
    "X = df_ml.select_dtypes(include=['float64', 'int64']).values\n",
    "\n",
    "# Apply K-Means Clustering with Elbow Method\n",
    "inertia = []\n",
    "k_values = range(2, 11)  # Testing K from 2 to 10\n",
    "kmeans_scores = []\n",
    "\n",
    "for k in k_values:\n",
    "    kmeans = KMeans(n_clusters=k, random_state=42)\n",
    "    kmeans.fit(X)\n",
    "    inertia.append(kmeans.inertia_)  # Store inertia for the elbow method\n",
    "    labels = kmeans.predict(X)\n",
    "    score = silhouette_score(X, labels)\n",
    "    kmeans_scores.append(score)\n",
    "    print(f'K-Means Silhouette Score for k={k}: {score}')\n",
    "\n",
    "# Plot Elbow Method\n",
    "plt.figure(figsize=(7, 4))\n",
    "plt.plot(k_values, inertia, marker='o')\n",
    "plt.title('Elbow Method for Optimal k')\n",
    "plt.xlabel('Number of Clusters (k)')\n",
    "plt.ylabel('Inertia')\n",
    "plt.xticks(k_values)\n",
    "plt.grid()\n",
    "plt.axvline(x=k_values[kmeans_scores.index(max(kmeans_scores))], linestyle='--', color='r', label='Best k based on Silhouette Score')\n",
    "plt.legend()\n",
    "plt.show()"
   ]
  },
  {
   "cell_type": "code",
   "execution_count": 40,
   "id": "58ba0e73-fe76-446c-8ecf-5cf4923f201e",
   "metadata": {},
   "outputs": [
    {
     "data": {
      "image/png": "[encoded data removed]",
      "text/plain": [
       "<Figure size 700x400 with 1 Axes>"
      ]
     },
     "metadata": {},
     "output_type": "display_data"
    },
    {
     "name": "stdout",
     "output_type": "stream",
     "text": [
      "Best K for K-Means: 10\n"
     ]
    }
   ],
   "source": [
    "# Plot Silhouette Scores for K-Means\n",
    "plt.figure(figsize=(7, 4))\n",
    "plt.plot(k_values, kmeans_scores, marker='o')\n",
    "plt.title('Silhouette Scores for K-Means Clustering')\n",
    "plt.xlabel('Number of Clusters (k)')\n",
    "plt.ylabel('Silhouette Score')\n",
    "plt.xticks(k_values)\n",
    "plt.grid()\n",
    "plt.show()\n",
    "\n",
    "# Best K based on silhouette score\n",
    "best_k = k_values[kmeans_scores.index(max(kmeans_scores))]\n",
    "print(f'Best K for K-Means: {best_k}')\n",
    "\n",
    "# Fit K-Means with the best K\n",
    "kmeans = KMeans(n_clusters=best_k, random_state=42)\n",
    "kmeans_labels = kmeans.fit_predict(X)"
   ]
  },
  {
   "cell_type": "code",
   "execution_count": 41,
   "id": "9f7435d6-a2a6-4e87-96fb-430c3575e6d2",
   "metadata": {},
   "outputs": [
    {
     "data": {
      "image/png": "[encoded data removed]",
      "text/plain": [
       "<Figure size 900x400 with 1 Axes>"
      ]
     },
     "metadata": {},
     "output_type": "display_data"
    }
   ],
   "source": [
    "# Plotting K-Means Results\n",
    "plt.figure(figsize=(9, 4))\n",
    "plt.scatter(X[:, 0], X[:, 1], c=kmeans_labels, cmap='viridis', marker='o', edgecolor='k', s=50)\n",
    "plt.title('K-Means Clustering Results')\n",
    "plt.xlabel('Feature 1')\n",
    "plt.ylabel('Feature 2')\n",
    "plt.grid()\n",
    "plt.show()"
   ]
  },
  {
   "cell_type": "code",
   "execution_count": 42,
   "id": "67f2f38e-a979-4fd4-bec2-f1afc0ed8ec0",
   "metadata": {},
   "outputs": [
    {
     "name": "stdout",
     "output_type": "stream",
     "text": [
      "Hierarchical Clustering Silhouette Score: 0.8624821215440837\n"
     ]
    }
   ],
   "source": [
    "# Apply Hierarchical Clustering\n",
    "hierarchical = AgglomerativeClustering(n_clusters=best_k)\n",
    "hierarchical_labels = hierarchical.fit_predict(X)\n",
    "\n",
    "# Calculate silhouette score for Hierarchical Clustering\n",
    "hierarchical_score = silhouette_score(X, hierarchical_labels)\n",
    "print(f'Hierarchical Clustering Silhouette Score: {hierarchical_score}')"
   ]
  },
  {
   "cell_type": "code",
   "execution_count": 43,
   "id": "21b15b76-d269-4050-9e9b-e7bc644532b8",
   "metadata": {},
   "outputs": [
    {
     "data": {
      "image/png": "[encoded data removed]",
      "text/plain": [
       "<Figure size 900x600 with 1 Axes>"
      ]
     },
     "metadata": {},
     "output_type": "display_data"
    }
   ],
   "source": [
    "from scipy.cluster.hierarchy import dendrogram, linkage\n",
    "\n",
    "# Plotting Dendrogram\n",
    "plt.figure(figsize=(9, 6))\n",
    "Z = linkage(X, method='ward')  # You can change 'ward' to another method like 'single', 'complete', etc.\n",
    "dendrogram(Z, truncate_mode='level', p=5)  # p=5 shows the last 5 merged clusters\n",
    "plt.title('Dendrogram')\n",
    "plt.xlabel('Sample Index or (Cluster Size)')\n",
    "plt.ylabel('Distance')\n",
    "plt.grid()\n",
    "plt.show()"
   ]
  },
  {
   "cell_type": "code",
   "execution_count": 44,
   "id": "c661eb7d-62fe-4d46-bc45-7ceea35f6bc3",
   "metadata": {},
   "outputs": [
    {
     "data": {
      "image/png": "[encoded data removed]",
      "text/plain": [
       "<Figure size 700x400 with 1 Axes>"
      ]
     },
     "metadata": {},
     "output_type": "display_data"
    }
   ],
   "source": [
    "# Plotting Hierarchical Clustering Results\n",
    "plt.figure(figsize=(7, 4))\n",
    "plt.scatter(X[:, 0], X[:, 1], c=hierarchical_labels, cmap='plasma', marker='o', edgecolor='k', s=50)\n",
    "plt.title('Hierarchical Clustering Results')\n",
    "plt.xlabel('Feature 1')\n",
    "plt.ylabel('Feature 2')\n",
    "plt.grid()\n",
    "plt.show()"
   ]
  },
  {
   "cell_type": "code",
   "execution_count": 45,
   "id": "75f03cb1-55fd-4348-91cd-19790dc13f2e",
   "metadata": {},
   "outputs": [
    {
     "name": "stdout",
     "output_type": "stream",
     "text": [
      "DBSCAN Silhouette Score: 0.7461664681501993\n"
     ]
    }
   ],
   "source": [
    "# Apply DBSCAN Clustering\n",
    "dbscan = DBSCAN(eps=0.5, min_samples=5)\n",
    "dbscan_labels = dbscan.fit_predict(X)\n",
    "\n",
    "# Calculate silhouette score for DBSCAN (only if we have at least 2 clusters)\n",
    "if len(set(dbscan_labels)) > 1:\n",
    "    dbscan_score = silhouette_score(X, dbscan_labels)\n",
    "else:\n",
    "    dbscan_score = -1  # Set to -1 if there's only one cluster\n",
    "\n",
    "print(f'DBSCAN Silhouette Score: {dbscan_score}')"
   ]
  },
  {
   "cell_type": "code",
   "execution_count": 46,
   "id": "90d34e4f-3e5c-4b59-a55c-42fbee2754a4",
   "metadata": {},
   "outputs": [
    {
     "data": {
      "image/png": "[encoded data removed]",
      "text/plain": [
       "<Figure size 700x400 with 1 Axes>"
      ]
     },
     "metadata": {},
     "output_type": "display_data"
    }
   ],
   "source": [
    "# Plotting DBSCAN Results\n",
    "plt.figure(figsize=(7, 4))\n",
    "plt.scatter(X[:, 0], X[:, 1], c=dbscan_labels, cmap='coolwarm', marker='o', edgecolor='k', s=50)\n",
    "plt.title('DBSCAN Clustering Results')\n",
    "plt.xlabel('Feature 1')\n",
    "plt.ylabel('Feature 2')\n",
    "plt.grid()\n",
    "plt.show()"
   ]
  },
  {
   "cell_type": "code",
   "execution_count": 47,
   "id": "3f0f9e7f-afe1-4d5d-8708-b920b5686467",
   "metadata": {},
   "outputs": [
    {
     "data": {
      "image/png": "[encoded data removed]",
      "text/plain": [
       "<Figure size 700x400 with 1 Axes>"
      ]
     },
     "metadata": {},
     "output_type": "display_data"
    },
    {
     "name": "stdout",
     "output_type": "stream",
     "text": [
      "Best number of components for GMM: 10\n",
      "Best GMM Silhouette Score: 0.8296719276403349\n"
     ]
    }
   ],
   "source": [
    "from sklearn.mixture import GaussianMixture\n",
    "\n",
    "# Apply GMM Clustering with Elbow Method\n",
    "gmm_scores = []\n",
    "gmm_inertia = []\n",
    "\n",
    "# Test different numbers of components\n",
    "n_components = range(1, 11)  # Testing from 1 to 10 components\n",
    "\n",
    "for n in n_components:\n",
    "    gmm = GaussianMixture(n_components=n, random_state=42)\n",
    "    gmm.fit(X)\n",
    "    gmm_labels = gmm.predict(X)\n",
    "    \n",
    "    # Calculate silhouette score if more than one cluster\n",
    "    if n > 1:\n",
    "        score = silhouette_score(X, gmm_labels)\n",
    "        gmm_scores.append(score)\n",
    "    else:\n",
    "        gmm_scores.append(-1)  # No meaningful score for a single cluster\n",
    "\n",
    "# Plot GMM Silhouette Scores\n",
    "plt.figure(figsize=(7, 4))\n",
    "plt.plot(n_components, gmm_scores, marker='o')\n",
    "plt.title('Silhouette Scores for GMM Clustering')\n",
    "plt.xlabel('Number of Components (n)')\n",
    "plt.ylabel('Silhouette Score')\n",
    "plt.xticks(n_components)\n",
    "plt.grid()\n",
    "plt.show()\n",
    "\n",
    "# Best GMM based on silhouette score\n",
    "best_gmm_n = n_components[gmm_scores.index(max(gmm_scores))]\n",
    "print(f'Best number of components for GMM: {best_gmm_n}')\n",
    "\n",
    "# Fit GMM with the best number of components\n",
    "gmm_best = GaussianMixture(n_components=best_gmm_n, random_state=42)\n",
    "gmm_labels_best = gmm_best.fit_predict(X)\n",
    "\n",
    "# Calculate silhouette score for the best GMM\n",
    "gmm_best_score = silhouette_score(X, gmm_labels_best)\n",
    "print(f'Best GMM Silhouette Score: {gmm_best_score}')"
   ]
  },
  {
   "cell_type": "code",
   "execution_count": 48,
   "id": "818aae94-bc27-4093-bd85-428ce4011321",
   "metadata": {},
   "outputs": [
    {
     "data": {
      "image/png": "[encoded data removed]",
      "text/plain": [
       "<Figure size 700x400 with 1 Axes>"
      ]
     },
     "metadata": {},
     "output_type": "display_data"
    }
   ],
   "source": [
    "# Plotting GMM Results\n",
    "plt.figure(figsize=(7, 4))\n",
    "plt.scatter(X[:, 0], X[:, 1], c=gmm_labels_best, cmap='coolwarm', marker='o', edgecolor='k', s=50)\n",
    "plt.title('GMM Clustering Results')\n",
    "plt.xlabel('Feature 1')\n",
    "plt.ylabel('Feature 2')\n",
    "plt.grid()\n",
    "plt.show()"
   ]
  },
  {
   "cell_type": "code",
   "execution_count": 49,
   "id": "190d78c0-76bb-4c78-b506-67237c147c4e",
   "metadata": {},
   "outputs": [
    {
     "name": "stdout",
     "output_type": "stream",
     "text": [
      "\n",
      "--- Clustering Results Comparison ---\n",
      "--------------------------------------------\n",
      "K-Means:\n",
      "  Best K: 10\n",
      "  Silhouette Score: 0.8641655272682829\n",
      "--------------------------------------------\n",
      "Hierarchical:\n",
      "  Silhouette Score: 0.8624821215440837\n",
      "--------------------------------------------\n",
      "DBSCAN:\n",
      "  Silhouette Score: 0.7461664681501993\n",
      "--------------------------------------------\n",
      "GMM:\n",
      "  Best Components: 10\n",
      "  Silhouette Score: 0.8296719276403349\n",
      "--------------------------------------------\n",
      "Best Clustering Model: K-Means\n"
     ]
    }
   ],
   "source": [
    "# Compile the scores from each clustering method\n",
    "# Initialize a dictionary to store the silhouette scores\n",
    "scores = {\n",
    "    'K-Means': {\n",
    "        'Best K': best_k,\n",
    "        'Silhouette Score': max(kmeans_scores)\n",
    "    },\n",
    "    'Hierarchical': {\n",
    "        'Silhouette Score': hierarchical_score\n",
    "    },\n",
    "    'DBSCAN': {\n",
    "        'Silhouette Score': dbscan_score\n",
    "    },\n",
    "    'GMM': {\n",
    "        'Best Components': best_gmm_n,\n",
    "        'Silhouette Score': gmm_best_score\n",
    "    }\n",
    "}\n",
    "\n",
    "# Print all scores for comparison\n",
    "print(\"\\n--- Clustering Results Comparison ---\")\n",
    "print(\"--------------------------------------------\")\n",
    "for model, metrics in scores.items():\n",
    "    print(f\"{model}:\")\n",
    "    for metric, value in metrics.items():\n",
    "        print(f\"  {metric}: {value}\")\n",
    "    print(\"--------------------------------------------\")\n",
    "\n",
    "# Determine the best model based on silhouette scores\n",
    "best_model = max(scores, key=lambda x: scores[x]['Silhouette Score'])\n",
    "print(f'Best Clustering Model: {best_model}')\n",
    "\n"
   ]
  },
  {
   "cell_type": "markdown",
   "id": "cf42a97c-3b23-4386-804a-3ecee5f82321",
   "metadata": {},
   "source": [
    "### Insights from the Clustering Analysis Using K-Means, Hierarchical Clustering, DBSCAN, and Gaussian Mixture Models (GMM)\r\n",
    "\r\n",
    "\r\n",
    "The evaluation of clustering models reveals varying degrees of effectiveness in capturing the underlying structures of the dataset, as indicated by their respective silhouette scores. Here's a comparison of the clustering models based on their silhouette scores:\r\n",
    "\r\n",
    "**K-Means:**\r\n",
    "- **Best K:** 10\r\n",
    "- **Silhouette Score:** 0.8642\r\n",
    "- **Insights:** K-Means exhibits the highest silhouette score, indicating that it effectively partitions the dataset into well-separated clusters. The high score suggests that the clusters formed are dense and distinct, making K-Means the most suitable model for this data.\r\n",
    "\r\n",
    "**Hierarchical Clustering:**\r\n",
    "- **Silhouette Score:** 0.8625\r\n",
    "- **Insights:** Hierarchical clustering closely follows K-Means in performance with a very similar silhouette score. This indicates that the hierarchical method also creates well-separated clusters. However, the slight difference suggests that while hierarchical clustering is effective, it may be less efficient than K-Means for this specific dataset.\r\n",
    "\r\n",
    "**DBSCAN:**\r\n",
    "- **Silhouette Score:** 0.7462\r\n",
    "- **Insights:** DBSCAN shows a significantly lower silhouette score compared to K-Means and Hierarchical Clustering. This suggests that while DBSCAN can identify clusters, the clusters are less distinct and may be more dispersed. The lower score indicates potential challenges in effectively utilizing this model for the given data structure.\r\n",
    "\r\n",
    "**Gaussian Mixture Models (GMM):**\r\n",
    "- **Best Components:** 10\r\n",
    "- **Best GMM Silhouette Score:** 0.8297\r\n",
    "- **Insights:** GMM provides a reasonably good silhouette score, indicating that it can capture the underlying distribution of the data. However, it still falls short compared to the K-Means clustering. The GMM may be useful for capturing more complex patterns but may not be as effective in producing distinct clusters as K-Means.\r\n",
    "\r\n",
    "In conclusion, the K-Means clustering algorithm demonstrated the highest effectiveness in identifying distinct clusters within the dataset, followed closely by Hierarchical Clustering. While GMM and DBSCAN provided valuable insights, they were less effective in creating clearly defined clusters. Further analysis and interpretation of these clusters can guide strategic decisions in the EV market.\r\n"
   ]
  },
  {
   "cell_type": "markdown",
   "id": "ebbd30da-2709-4501-9168-cedf100415d1",
   "metadata": {},
   "source": [
    "## Recommendations\n",
    "\n",
    "Based on the clustering analysis and insights obtained from the different clustering algorithms applied to the Electric Vehicle (EV) market dataset, the following recommendations are provided:\n",
    "\n",
    "1. **Adopt K-Means for Market Segmentation**: \n",
    "   - Given its superior silhouette score of **0.8642**, K-Means is recommended for market segmentation of EV customers. This model effectively captures the distinct clusters in the data, which can assist in targeted marketing strategies and resource allocation.\n",
    "\n",
    "2. **Consider Hierarchical Clustering for In-Depth Analysis**: \n",
    "   - While K-Means is the best model, Hierarchical Clustering also provided a high silhouette score (**0.8625**). It can be utilized for an in-depth analysis to understand the relationships between clusters better, potentially revealing insights not captured by K-Means alone.\n",
    "\n",
    "3. **Explore DBSCAN in Different Contexts**: \n",
    "   - Although DBSCAN showed a lower silhouette score (**0.7462**), it may still be useful in contexts where density-based clustering is beneficial. Future analyses could explore its performance on datasets with different characteristics or use cases where noise and outliers are significant factors.\n",
    "\n",
    "4. **Leverage GMM for Soft Clustering Needs**: \n",
    "   - The Gaussian Mixture Model (GMM) achieved a silhouette score of **0.8297**. This approach can be beneficial for scenarios requiring soft clustering, where data points may belong to multiple clusters. Consider using GMM when dealing with uncertainty in data assignments.\n",
    "\n",
    "5. **Regularly Update Models with New Data**: \n",
    "   - As the EV market evolves and more data becomes available, it's crucial to regularly update and re-evaluate the clustering models. This will ensure that the insights and segmentations remain relevant and reflective of current market dynamics.\n",
    "\n",
    "6. **Integrate Clustering Insights with Business Strategies**: \n",
    "   - Utilize the insights gained from the clustering analysis to inform business strategies, including product offerings, marketing campaigns, and service enhancements. Tailoring approaches based on distinct customer segments can lead to improved customer satisfaction and increased market share.\n",
    "\n",
    "7. **Conduct Further Validation and Testing**: \n",
    "   - Validate the findings by applying different clustering methods on subsets of the data. Conduct A/B testing on marketing strategies based on the clusters to measure effectiveness and adjust strategies accordingly.\n",
    "\n",
    "By following these recommendations, stakeholders can leverage the clustering analysis to drive strategic decision-making and improve operational efficiencies within the EV market.\n"
   ]
  },
  {
   "cell_type": "code",
   "execution_count": null,
   "id": "967ef946-aec1-46c4-b29b-382e359bb8e6",
   "metadata": {},
   "outputs": [],
   "source": []
  },
  {
   "cell_type": "code",
   "execution_count": null,
   "id": "b4ac970f-6965-43b9-af8f-2b86cd11a9da",
   "metadata": {},
   "outputs": [],
   "source": []
  },
  {
   "cell_type": "code",
   "execution_count": null,
   "id": "e1b08d46-cd38-4fcf-b5c5-f4443f6526f7",
   "metadata": {},
   "outputs": [],
   "source": []
  },
  {
   "cell_type": "code",
   "execution_count": null,
   "id": "c0d10c63-6ba5-49c1-a228-b23a143ebbee",
   "metadata": {},
   "outputs": [],
   "source": []
  }
 ],
 "metadata": {
  "kernelspec": {
   "display_name": "Python 3 (ipykernel)",
   "language": "python",
   "name": "python3"
  },
  "language_info": {
   "codemirror_mode": {
    "name": "ipython",
    "version": 3
   },
   "file_extension": ".py",
   "mimetype": "text/x-python",
   "name": "python",
   "nbconvert_exporter": "python",
   "pygments_lexer": "ipython3",
   "version": "3.9.19"
  }
 },
 "nbformat": 4,
 "nbformat_minor": 5
}
